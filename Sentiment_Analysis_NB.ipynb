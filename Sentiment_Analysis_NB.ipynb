{
  "cells": [
    {
      "cell_type": "markdown",
      "id": "c7a608e6",
      "metadata": {},
      "source": [
        "# SENTIMENT ANALYSIS USING NAIVE BAYES ALGORITHM"
      ]
    },
    {
      "cell_type": "markdown",
      "id": "bc97d6da",
      "metadata": {
        "id": "bc97d6da"
      },
      "source": [
        "We will be dealing with movie review data that includes both positive and negative reviews in this assignment. You will use Sentiment Analysis to assess if a given review is positive or negative using the provided dataset.\n",
        "\n",
        "Therefore, we will make use of Naive Bayes algorithm to perform sentiment analysis on the movie review dataset.\n",
        "\n",
        "## Importing the Libraries"
      ]
    },
    {
      "cell_type": "code",
      "execution_count": 44,
      "id": "a03450ac",
      "metadata": {
        "id": "a03450ac"
      },
      "outputs": [],
      "source": [
        "import numpy as np\n",
        "import math\n",
        "import pandas as pd\n",
        "import re\n",
        "import nltk\n",
        "from nltk.corpus import stopwords\n",
        "from nltk.stem import PorterStemmer, WordNetLemmatizer\n",
        "from nltk.tokenize import word_tokenize\n",
        "import warnings\n",
        "import seaborn as sns\n",
        "import matplotlib.pyplot as plt\n",
        "warnings.filterwarnings(\"ignore\")"
      ]
    },
    {
      "cell_type": "markdown",
      "id": "fc584cc2",
      "metadata": {
        "id": "fc584cc2"
      },
      "source": [
        "## Reading the data\n",
        "\n",
        "When reading the data, ensure that the '.csv' file is in the same location where your jupyter notebook is used. This way the files are organized and easy to read using the pandas library. "
      ]
    },
    {
      "cell_type": "code",
      "execution_count": 45,
      "id": "3c9ffbf5",
      "metadata": {
        "id": "3c9ffbf5"
      },
      "outputs": [],
      "source": [
        "## Reading the data and removing columns that are not important. \n",
        "df = pd.read_csv(\"movie_reviews-1.csv\", sep = ',', encoding = 'latin-1', usecols = lambda col: col not in [\"Unnamed: 2\", \"Unnamed: 3\", \"Unnamed: 4\"])"
      ]
    },
    {
      "cell_type": "code",
      "execution_count": 46,
      "id": "f7fa8ac0",
      "metadata": {
        "colab": {
          "base_uri": "https://localhost:8080/",
          "height": 206
        },
        "id": "f7fa8ac0",
        "outputId": "69edaf28-1e2e-4ec7-9530-b30a2853ab9e"
      },
      "outputs": [
        {
          "data": {
            "text/html": [
              "<div>\n",
              "<style scoped>\n",
              "    .dataframe tbody tr th:only-of-type {\n",
              "        vertical-align: middle;\n",
              "    }\n",
              "\n",
              "    .dataframe tbody tr th {\n",
              "        vertical-align: top;\n",
              "    }\n",
              "\n",
              "    .dataframe thead th {\n",
              "        text-align: right;\n",
              "    }\n",
              "</style>\n",
              "<table border=\"1\" class=\"dataframe\">\n",
              "  <thead>\n",
              "    <tr style=\"text-align: right;\">\n",
              "      <th></th>\n",
              "      <th>review</th>\n",
              "      <th>sentiment</th>\n",
              "    </tr>\n",
              "  </thead>\n",
              "  <tbody>\n",
              "    <tr>\n",
              "      <th>0</th>\n",
              "      <td>One of the other reviewers has mentioned that ...</td>\n",
              "      <td>positive</td>\n",
              "    </tr>\n",
              "    <tr>\n",
              "      <th>1</th>\n",
              "      <td>A wonderful little production. &lt;br /&gt;&lt;br /&gt;The...</td>\n",
              "      <td>positive</td>\n",
              "    </tr>\n",
              "    <tr>\n",
              "      <th>2</th>\n",
              "      <td>I thought this was a wonderful way to spend ti...</td>\n",
              "      <td>positive</td>\n",
              "    </tr>\n",
              "    <tr>\n",
              "      <th>3</th>\n",
              "      <td>Petter Mattei's \"Love in the Time of Money\" is...</td>\n",
              "      <td>positive</td>\n",
              "    </tr>\n",
              "    <tr>\n",
              "      <th>4</th>\n",
              "      <td>Probably my all-time favorite movie, a story o...</td>\n",
              "      <td>positive</td>\n",
              "    </tr>\n",
              "  </tbody>\n",
              "</table>\n",
              "</div>"
            ],
            "text/plain": [
              "                                              review sentiment\n",
              "0  One of the other reviewers has mentioned that ...  positive\n",
              "1  A wonderful little production. <br /><br />The...  positive\n",
              "2  I thought this was a wonderful way to spend ti...  positive\n",
              "3  Petter Mattei's \"Love in the Time of Money\" is...  positive\n",
              "4  Probably my all-time favorite movie, a story o...  positive"
            ]
          },
          "execution_count": 46,
          "metadata": {},
          "output_type": "execute_result"
        }
      ],
      "source": [
        "df.head()  # print head of data frame with help of head function"
      ]
    },
    {
      "cell_type": "markdown",
      "id": "1749da04",
      "metadata": {
        "id": "1749da04"
      },
      "source": [
        "## Count plot of the output categories: positive or negative"
      ]
    },
    {
      "cell_type": "code",
      "execution_count": 47,
      "id": "3d172b89",
      "metadata": {},
      "outputs": [
        {
          "data": {
            "text/plain": [
              "positive    12474\n",
              "negative    12225\n",
              "Name: sentiment, dtype: int64"
            ]
          },
          "execution_count": 47,
          "metadata": {},
          "output_type": "execute_result"
        }
      ],
      "source": [
        "df['sentiment'].value_counts()"
      ]
    },
    {
      "cell_type": "markdown",
      "id": "8f74d6fe",
      "metadata": {},
      "source": [
        "- I think both the classes of positive and negative reviews are a little imbalanced and also there isn't any noticeable difference between the classes."
      ]
    },
    {
      "cell_type": "code",
      "execution_count": 48,
      "id": "c152e8a4",
      "metadata": {
        "colab": {
          "base_uri": "https://localhost:8080/",
          "height": 515
        },
        "id": "c152e8a4",
        "outputId": "a2ba0476-3238-4511-fcf0-780508493f48"
      },
      "outputs": [
        {
          "data": {
            "image/png": "[encoded data removed]",
            "text/plain": [
              "<Figure size 700x500 with 1 Axes>"
            ]
          },
          "metadata": {},
          "output_type": "display_data"
        }
      ],
      "source": [
        "plt.figure(figsize = (7,5))\n",
        "sns.countplot(data=df,x='sentiment')\n",
        "plt.title(\"Positive Vs. Negative reviews count\", fontsize = 15)\n",
        "plt.show()"
      ]
    },
    {
      "cell_type": "markdown",
      "id": "9b8549f2",
      "metadata": {
        "id": "9b8549f2"
      },
      "source": [
        "## Upsampling the minority class:\n",
        "\n",
        "It is known that Naive bayes is not robust to class imbalance. It could be seen above that the data is little imbalanced. Therefore, class balancing can be done before giving it to the Naive Bayes model for prediction. "
      ]
    },
    {
      "cell_type": "code",
      "execution_count": 49,
      "id": "yHJTAqrW7XMN",
      "metadata": {
        "id": "yHJTAqrW7XMN"
      },
      "outputs": [],
      "source": [
        "# using resample from sklearn.utils\n",
        "from sklearn.utils import resample\n",
        "\n",
        "df_majority = df[df['sentiment']=='positive']\n",
        "df_minority = df[df['sentiment']=='negative']\n",
        "\n",
        "negative_upsample = resample(df_minority, replace = True, \n",
        "                        n_samples = df_majority.shape[0])\n",
        "\n",
        "df_upsampled = pd.concat([df_majority, negative_upsample])  # concat two data frames i,e majority class data set and upsampled minority class data set\n",
        "df_upsampled = df_upsampled.sample(frac = 1)"
      ]
    },
    {
      "cell_type": "code",
      "execution_count": 50,
      "id": "6a9329bb",
      "metadata": {
        "id": "6a9329bb"
      },
      "outputs": [
        {
          "data": {
            "text/plain": [
              "(12474, 2)"
            ]
          },
          "execution_count": 50,
          "metadata": {},
          "output_type": "execute_result"
        }
      ],
      "source": [
        "## Just to ensure that upsampling was done successfully, take a look at the shape of the data in \n",
        "## this cell. \n",
        "\n",
        "# print the shape of data set with the help of shape function having \"negative\" as class label\n",
        "df_upsampled[df_upsampled['sentiment']=='negative'].shape"
      ]
    },
    {
      "cell_type": "code",
      "execution_count": 51,
      "id": "bdea8155",
      "metadata": {
        "colab": {
          "base_uri": "https://localhost:8080/"
        },
        "id": "bdea8155",
        "outputId": "c665c4b9-826e-4f4e-e30e-06e0935a0622"
      },
      "outputs": [
        {
          "data": {
            "text/plain": [
              "(12474, 2)"
            ]
          },
          "execution_count": 51,
          "metadata": {},
          "output_type": "execute_result"
        }
      ],
      "source": [
        "## Ensure that the same number of data points are present for both 'positive' and 'negative' data\n",
        "\n",
        "# print the shape of data set with the help of shape function having \"positive\" as class label\n",
        "df_upsampled[df_upsampled['sentiment']=='negative'].shape"
      ]
    },
    {
      "cell_type": "code",
      "execution_count": 52,
      "id": "NoW5z6SzAeP8",
      "metadata": {
        "id": "NoW5z6SzAeP8"
      },
      "outputs": [],
      "source": [
        "## In this cell, we are going to be dividing the data into train and test points\n",
        "## Ensure that you store the upsampled data in a variable called 'df_upsampled' \n",
        "## so that the below operations are performed successfully\n",
        "\n",
        "\n",
        "## Considering 10000 positive and 10000 negative data points\n",
        "negative_data_points_train = df_upsampled[df_upsampled['sentiment']=='negative'].iloc[:10000]\n",
        "positive_data_points_train = df_upsampled[df_upsampled['sentiment']=='positive'].iloc[:10000]\n",
        "\n",
        "## Considering the remaining data points for test\n",
        "negative_data_points_test = df_upsampled[df_upsampled['sentiment']=='negative'].iloc[10000:]\n",
        "positive_data_points_test = df_upsampled[df_upsampled['sentiment']=='positive'].iloc[10000:]\n",
        "\n",
        "## Concatenate the training positive and negative reviews\n",
        "X_train = pd.concat([positive_data_points_train['review'], negative_data_points_train['review']])\n",
        "## Concatenating the training positive and negative outputs\n",
        "y_train = pd.concat([positive_data_points_train['sentiment'], negative_data_points_train['sentiment']])\n",
        "\n",
        "## Concatenating the test positive and negative reviews\n",
        "X_test = pd.concat([positive_data_points_test['review'], negative_data_points_test['review']])\n",
        "## Concatenating the test positive and negative outputs\n",
        "y_test = pd.concat([positive_data_points_test['sentiment'], negative_data_points_test['sentiment']])\n"
      ]
    },
    {
      "cell_type": "code",
      "execution_count": 53,
      "id": "6428047d",
      "metadata": {
        "colab": {
          "base_uri": "https://localhost:8080/"
        },
        "id": "6428047d",
        "outputId": "10d10601-0ce0-4688-c4d3-75fa386583fd"
      },
      "outputs": [
        {
          "data": {
            "text/plain": [
              "positive    10000\n",
              "negative    10000\n",
              "Name: sentiment, dtype: int64"
            ]
          },
          "execution_count": 53,
          "metadata": {},
          "output_type": "execute_result"
        }
      ],
      "source": [
        "## Take a look at the total number of classes and their count using '.value_counts()' for y_train and y_test.\n",
        "## Ensure that there are equal number of positive and negative reviews. \n",
        "y_train.value_counts()"
      ]
    },
    {
      "cell_type": "code",
      "execution_count": 54,
      "id": "2beae1d6",
      "metadata": {
        "colab": {
          "base_uri": "https://localhost:8080/"
        },
        "id": "2beae1d6",
        "outputId": "6896f930-6a1a-45db-b74c-d080c9aedd0c"
      },
      "outputs": [
        {
          "data": {
            "text/plain": [
              "positive    2474\n",
              "negative    2474\n",
              "Name: sentiment, dtype: int64"
            ]
          },
          "execution_count": 54,
          "metadata": {},
          "output_type": "execute_result"
        }
      ],
      "source": [
        "y_test.value_counts()"
      ]
    },
    {
      "cell_type": "markdown",
      "id": "9163f897",
      "metadata": {
        "id": "9163f897"
      },
      "source": [
        "### Expected Output : \n",
        "negative    2474<br>\n",
        "positive    2474<br>\n",
        "Name: sentiment, dtype: int64"
      ]
    },
    {
      "cell_type": "markdown",
      "id": "6501699b",
      "metadata": {
        "id": "6501699b"
      },
      "source": [
        "## Pre-process the reviews:\n",
        "\n",
        "We know that a review contains links, punctuation, stopwords and many other words that don't give a lot of meaning for the Naive Bayes model for prediction. \n",
        "\n",
        "In the cell below, one must implement text-preprocessing and remove links, punctuations and stopwords. It is also important to lowercase the letters so that 'Admire' and 'admire' are not treated as different words. \n",
        "\n",
        "In addition to this, perform stemming operation so that similar words are reduced. To know more about stemming, feel free to take a look at this link.\n",
        "\n",
        "https://nlp.stanford.edu/IR-book/html/htmledition/stemming-and-lemmatization-1.html"
      ]
    },
    {
      "cell_type": "code",
      "execution_count": 55,
      "id": "CirLN9-ddQ1r",
      "metadata": {
        "id": "CirLN9-ddQ1r"
      },
      "outputs": [],
      "source": [
        "# TASK CELL\n",
        "import string\n",
        "import spacy\n",
        "\n",
        "def clean_review(review):\n",
        "    url_pattern = r'https?://\\S+|www.\\.\\S+'\n",
        "    k = re.sub(url_pattern, '', review)\n",
        "    # punctuation removal\n",
        "    k = re.sub(r\"[^\\w\\s\\t]\", \"\", k) \n",
        "    #lowering the alphabets \n",
        "    k = k.lower()   \n",
        "    # tokenizing the words\n",
        "    k = word_tokenize(k)\n",
        "    # initializing stop words and applying them\n",
        "    sw = set(stopwords.words('english'))\n",
        "    w = [i for i in k if i not in sw]\n",
        "    # stemming using porter stemmer\n",
        "    porter_stemmer = PorterStemmer()\n",
        "    w = [porter_stemmer.stem(i) for i in w]\n",
        "    # lemmatization \n",
        "    # lemma = WordNetLemmatizer()\n",
        "    # w= [lemma.lemmatize(i) for i in w]\n",
        "    review_cleaned = ' '.join(w)\n",
        "    return review_cleaned"
      ]
    },
    {
      "cell_type": "markdown",
      "id": "a7632fe5",
      "metadata": {
        "id": "a7632fe5"
      },
      "source": [
        "In this function, we find the total occurrence of a word giving information such as label, word and frequency dictionary.\n",
        "\n",
        "Note that this function is used later in the code when we are going to be predicting the output using Naive Bayes. "
      ]
    },
    {
      "cell_type": "code",
      "execution_count": 1,
      "id": "eb282b81",
      "metadata": {
        "id": "eb282b81"
      },
      "outputs": [],
      "source": [
        "# TASK CELL\n",
        "def find_occurrence(frequency, word, label):\n",
        "    n =0 \n",
        "    for i,j in frequency:\n",
        "        if i[0]==word and i[1]==label:\n",
        "            n+=j\n",
        "    return n"
      ]
    },
    {
      "cell_type": "markdown",
      "id": "29a2249d",
      "metadata": {
        "id": "29a2249d"
      },
      "source": [
        "### Converting output to numerical format:\n",
        "\n",
        "We have outputs as 'positive' or 'negative'. In the cell below, we convert it to a numerical format. "
      ]
    },
    {
      "cell_type": "code",
      "execution_count": 57,
      "id": "bcdc2b2c",
      "metadata": {
        "id": "bcdc2b2c"
      },
      "outputs": [],
      "source": [
        "## With the use of mapping function, we replace\n",
        "## the label in the form of string to an integer. \n",
        "\n",
        "output_map = {'positive': 0, 'negative': 1}\n",
        "y_train = y_train.map(output_map)\n",
        "y_test = y_test.map(output_map)"
      ]
    },
    {
      "cell_type": "code",
      "execution_count": 58,
      "id": "3dde0bbd",
      "metadata": {
        "colab": {
          "base_uri": "https://localhost:8080/"
        },
        "id": "3dde0bbd",
        "outputId": "223dfbc1-8efe-4183-b6d7-c9cb025cb285"
      },
      "outputs": [
        {
          "data": {
            "text/plain": [
              "0    10000\n",
              "1    10000\n",
              "Name: sentiment, dtype: int64"
            ]
          },
          "execution_count": 58,
          "metadata": {},
          "output_type": "execute_result"
        }
      ],
      "source": [
        "## Ensuring that there are equal number of classes on the training data. \n",
        "y_train.value_counts()"
      ]
    },
    {
      "cell_type": "code",
      "execution_count": 59,
      "id": "f2959b85",
      "metadata": {
        "colab": {
          "base_uri": "https://localhost:8080/",
          "height": 178
        },
        "id": "f2959b85",
        "outputId": "e514214b-cd57-43fc-875d-1821ddab63f8"
      },
      "outputs": [
        {
          "data": {
            "text/plain": [
              "\"I always knew the day was coming. We all knew. There's only so much oil in the ground, and one day we'll run short. But isn't there supposed to be enough coal to use instead? And wind power, or something. Things for future generations to worry about.<br /><br />Then this documentary hit me smack between the eyes. Oil makes the fertilizer that is the reason for the first time in world history practically no one lives on farms. When the inevitable oil shortages hit, a lot of things -- air travel, many drugs, plastics, life in the suburbs -- will become impossible. But the craziest insight from the documentary is this: oil gives us so much energy with so little effort, that without it our lives must change. Even if substitutes and conservation are implemented immediately, at best they'll smooth our landing into a strange post-oil world which (the documentary claims) could be starting NOW.<br /><br />Despite its gloomy message, the documentary is often highly entertaining. It contains fabulous historical footage (sober images of dark urban factories, and campy funny stuff from the 1950's) which reminds us of why we moved to the suburbs in the first place. It also offers hope that a massive effort started now could both ease our transition from oil and make the world a better place.<br /><br />My only complaint about the documentary is that it does not spend time on the mystery of why we are finding this stuff out now. How can this be a big emergency all of a sudden? We knew in the 1970s we should be preparing for a post-oil world -- and we started to prepare with alternative energy research and smaller cars. If our failure to follow through on President Jimmy Carter's initiatives 25 years ago has doomed us to a hard landing in a post-oil world, why was no one shouting about it on soapboxes?<br /><br />In the end I found the documentary highly persuasive; and it left me with the terrible chill of being dragged out of a very lovely dream. This is must viewing for everyone not afraid to face a very likely near future that we still have time to do something about.<br /><br />- Charles\""
            ]
          },
          "execution_count": 59,
          "metadata": {},
          "output_type": "execute_result"
        }
      ],
      "source": [
        "## Choosing a random review and taking a look at it.\n",
        "X_train.iloc[1]"
      ]
    },
    {
      "cell_type": "markdown",
      "id": "ed5e43c9",
      "metadata": {
        "id": "ed5e43c9"
      },
      "source": [
        "From the above cell output, it could be seen that there are a lot of words that don't add a lot of meaning to the text. \n",
        "\n",
        "Therefore, those words would be removed. It also reduces the computation time. \n",
        "\n",
        "Therefore, it is a good practice we are following."
      ]
    },
    {
      "cell_type": "code",
      "execution_count": 60,
      "id": "ad3937ea",
      "metadata": {
        "colab": {
          "base_uri": "https://localhost:8080/"
        },
        "id": "ad3937ea",
        "outputId": "68985efe-32cd-4c11-ed5b-2e1e1b297e73"
      },
      "outputs": [
        {
          "name": "stdout",
          "output_type": "stream",
          "text": [
            "alway knew day come knew there much oil ground one day well run short isnt suppos enough coal use instead wind power someth thing futur gener worri aboutbr br documentari hit smack eye oil make fertil reason first time world histori practic one live farm inevit oil shortag hit lot thing air travel mani drug plastic life suburb becom imposs craziest insight documentari oil give us much energi littl effort without live must chang even substitut conserv implement immedi best theyll smooth land strang postoil world documentari claim could start nowbr br despit gloomi messag documentari often highli entertain contain fabul histor footag sober imag dark urban factori campi funni stuff 1950 remind us move suburb first place also offer hope massiv effort start could eas transit oil make world better placebr br complaint documentari spend time mysteri find stuff big emerg sudden knew 1970 prepar postoil world start prepar altern energi research smaller car failur follow presid jimmi carter initi 25 year ago doom us hard land postoil world one shout soapboxesbr br end found documentari highli persuas left terribl chill drag love dream must view everyon afraid face like near futur still time someth aboutbr br charl\n"
          ]
        }
      ],
      "source": [
        "custom_review = X_train.iloc[1]\n",
        "\n",
        "# print cleaned review\n",
        "print(clean_review(custom_review))"
      ]
    },
    {
      "cell_type": "markdown",
      "id": "3e6cc440",
      "metadata": {
        "id": "3e6cc440"
      },
      "source": [
        "We now use this function to pre-process the review and remove words that don't add a lot of meaning in our model. "
      ]
    },
    {
      "cell_type": "markdown",
      "id": "5a762960",
      "metadata": {
        "id": "5a762960"
      },
      "source": [
        "## Implementing review counter function:\n",
        "\n",
        "In this function, we count the occurrence of words and get the probabilities \n",
        "for the words based on the training data. \n",
        "\n",
        "In other words, we get the probability of occurrence of a word, given that the output is 'positive'.\n",
        "\n",
        "Similarly, we also compute the probability of occurence of a word, given that the output is 'negative'.\n",
        "\n"
      ]
    },
    {
      "cell_type": "code",
      "execution_count": 61,
      "id": "5de61f77",
      "metadata": {
        "id": "5de61f77"
      },
      "outputs": [],
      "source": [
        "# TASK CELL\n",
        "def review_counter(output_occurrence, reviews, positive_or_negative):\n",
        "    d1 = dict()\n",
        "    for label, review in zip(positive_or_negative, reviews):\n",
        "      split_review = clean_review(review).split()\n",
        "      for word in split_review:\n",
        "        key = (word,label)\n",
        "        # this checks whether the current pair of key already exists in the dictionary or not if not it adds it to the dictionary\n",
        "        d1[key] = d1.get(key,0)+1\n",
        "    output_occurrence = d1\n",
        "    return output_occurrence"
      ]
    },
    {
      "cell_type": "code",
      "execution_count": 62,
      "id": "07a4c58a",
      "metadata": {
        "colab": {
          "base_uri": "https://localhost:8080/"
        },
        "id": "07a4c58a",
        "outputId": "dd9e148a-34a9-4cfe-9077-c5de33493d7a"
      },
      "outputs": [
        {
          "data": {
            "text/plain": [
              "{('got', 1): 1,\n",
              " ('bore', 1): 2,\n",
              " ('throught', 1): 1,\n",
              " ('moview', 1): 1,\n",
              " ('movi', 0): 2,\n",
              " ('fantast', 0): 1,\n",
              " ('watch', 1): 1,\n",
              " ('complet', 1): 1,\n",
              " ('wast', 1): 1,\n",
              " ('time', 1): 1,\n",
              " ('money', 1): 1,\n",
              " ('enjoy', 0): 1,\n",
              " ('fullest', 0): 1}"
            ]
          },
          "execution_count": 62,
          "metadata": {},
          "output_type": "execute_result"
        }
      ],
      "source": [
        "# Testing your function\n",
        "\n",
        "result = {}\n",
        "reviews = ['got bored throught the moview', 'The movie was fantastic', 'Will not watch it again', 'Was bored, it was a complete waste of time and money', 'Enjoyed the movie to the fullest']\n",
        "ys = [1, 0, 1, 1, 0]\n",
        "review_counter(result,reviews, ys)"
      ]
    },
    {
      "cell_type": "code",
      "execution_count": 63,
      "id": "9bc62e13",
      "metadata": {
        "id": "9bc62e13"
      },
      "outputs": [],
      "source": [
        "# Build the freqs dictionary for later uses\n",
        "\n",
        "freqs = review_counter({}, X_train, y_train)"
      ]
    },
    {
      "cell_type": "code",
      "execution_count": 64,
      "id": "0eddf420",
      "metadata": {
        "id": "0eddf420"
      },
      "outputs": [
        {
          "data": {
            "text/plain": [
              "{('othello', 0): 53,\n",
              " ('classic', 0): 1078,\n",
              " ('shakespearen', 0): 1,\n",
              " ('stori', 0): 5468,\n",
              " ('love', 0): 4837,\n",
              " ('betray', 0): 101,\n",
              " ('lie', 0): 298,\n",
              " ('tragedi', 0): 172,\n",
              " ('rememb', 0): 911,\n",
              " ('studi', 0): 223,\n",
              " ('high', 0): 740,\n",
              " ('school', 0): 658,\n",
              " ('actual', 0): 1681,\n",
              " ('found', 0): 1046,\n",
              " ('probabl', 0): 1093,\n",
              " ('favorit', 0): 886,\n",
              " ('shakespear', 0): 174,\n",
              " ('due', 0): 408,\n",
              " ('fact', 0): 1318,\n",
              " ('fascin', 0): 327,\n",
              " ('captur', 0): 446,\n",
              " ('feel', 0): 2313,\n",
              " ('friendship', 0): 220,\n",
              " ('racism', 0): 76,\n",
              " ('perfectli', 0): 409,\n",
              " ('mean', 0): 957,\n",
              " ('realli', 0): 4245,\n",
              " ('could', 0): 2394,\n",
              " ('go', 0): 3277,\n",
              " ('mani', 0): 3049,\n",
              " ('philosophi', 0): 52,\n",
              " ('went', 0): 531,\n",
              " ('insan', 0): 167,\n",
              " ('jealousi', 0): 34,\n",
              " ('blink', 0): 23,\n",
              " ('eye', 0): 876,\n",
              " ('later', 0): 990,\n",
              " ('report', 0): 163,\n",
              " ('also', 0): 4174,\n",
              " ('watch', 0): 5061,\n",
              " ('version', 0): 935,\n",
              " ('say', 0): 2631,\n",
              " ('absolut', 0): 679,\n",
              " ('brilliant', 0): 704,\n",
              " ('lawer', 0): 1,\n",
              " ('kenneth', 0): 34,\n",
              " ('well', 0): 4664,\n",
              " ('understood', 0): 93,\n",
              " ('darknessbr', 0): 2,\n",
              " ('br', 0): 22302,\n",
              " ('big', 0): 1398,\n",
              " ('time', 0): 6175,\n",
              " ('soldier', 0): 310,\n",
              " ('citi', 0): 617,\n",
              " ('everyon', 0): 951,\n",
              " ('includ', 0): 869,\n",
              " ('king', 0): 386,\n",
              " ('find', 0): 2339,\n",
              " ('snuck', 0): 4,\n",
              " ('daughter', 0): 488,\n",
              " ('desdemona', 0): 13,\n",
              " ('infuri', 0): 13,\n",
              " ('except', 0): 615,\n",
              " ('welcom', 0): 127,\n",
              " ('make', 0): 5265,\n",
              " ('best', 0): 3334,\n",
              " ('friend', 0): 1369,\n",
              " ('cassio', 0): 6,\n",
              " ('side', 0): 615,\n",
              " ('man', 0): 2455,\n",
              " ('instead', 0): 556,\n",
              " ('iago', 0): 15,\n",
              " ('stood', 0): 71,\n",
              " ('he', 0): 1039,\n",
              " ('reveng', 0): 159,\n",
              " ('still', 0): 2561,\n",
              " ('pretend', 0): 71,\n",
              " ('mearli', 0): 1,\n",
              " ('hint', 0): 107,\n",
              " ('cheat', 0): 78,\n",
              " ('never', 0): 2515,\n",
              " ('think', 0): 3405,\n",
              " ('happen', 0): 1268,\n",
              " ('driven', 0): 95,\n",
              " ('doesnt', 0): 1474,\n",
              " ('pleasant', 0): 113,\n",
              " ('plan', 0): 352,\n",
              " ('happi', 0): 540,\n",
              " ('help', 0): 1192,\n",
              " ('outbr', 0): 72,\n",
              " ('incred', 0): 497,\n",
              " ('highli', 0): 634,\n",
              " ('recommend', 0): 1187,\n",
              " ('read', 0): 902,\n",
              " ('keep', 0): 1141,\n",
              " ('youv', 0): 238,\n",
              " ('movi', 0): 17425,\n",
              " ('great', 0): 5023,\n",
              " ('tearjerk', 0): 18,\n",
              " ('type', 0): 567,\n",
              " ('utter', 0): 65,\n",
              " ('shock', 0): 365,\n",
              " ('quickli', 0): 229,\n",
              " ('believ', 0): 1432,\n",
              " ('true', 0): 1102,\n",
              " ('would', 0): 4209,\n",
              " ('terrif', 0): 279,\n",
              " ('act', 0): 2705,\n",
              " ('good', 0): 5809,\n",
              " ('set', 0): 1614,\n",
              " ('direct', 0): 1414,\n",
              " ('meant', 0): 200,\n",
              " ('wrote', 0): 185,\n",
              " ('storybr', 0): 87,\n",
              " ('1010', 0): 204,\n",
              " ('alway', 0): 1624,\n",
              " ('knew', 0): 343,\n",
              " ('day', 0): 1601,\n",
              " ('come', 0): 2650,\n",
              " ('there', 0): 935,\n",
              " ('much', 0): 3694,\n",
              " ('oil', 0): 58,\n",
              " ('ground', 0): 149,\n",
              " ('one', 0): 11075,\n",
              " ('run', 0): 912,\n",
              " ('short', 0): 885,\n",
              " ('isnt', 0): 996,\n",
              " ('suppos', 0): 359,\n",
              " ('enough', 0): 1129,\n",
              " ('coal', 0): 18,\n",
              " ('use', 0): 1974,\n",
              " ('wind', 0): 189,\n",
              " ('power', 0): 917,\n",
              " ('someth', 0): 1684,\n",
              " ('thing', 0): 2720,\n",
              " ('futur', 0): 367,\n",
              " ('gener', 0): 734,\n",
              " ('worri', 0): 120,\n",
              " ('aboutbr', 0): 24,\n",
              " ('documentari', 0): 507,\n",
              " ('hit', 0): 551,\n",
              " ('smack', 0): 23,\n",
              " ('fertil', 0): 8,\n",
              " ('reason', 0): 883,\n",
              " ('first', 0): 3529,\n",
              " ('world', 0): 1844,\n",
              " ('histori', 0): 610,\n",
              " ('practic', 0): 181,\n",
              " ('live', 0): 2057,\n",
              " ('farm', 0): 66,\n",
              " ('inevit', 0): 119,\n",
              " ('shortag', 0): 6,\n",
              " ('lot', 0): 1982,\n",
              " ('air', 0): 345,\n",
              " ('travel', 0): 251,\n",
              " ('drug', 0): 375,\n",
              " ('plastic', 0): 37,\n",
              " ('life', 0): 3020,\n",
              " ('suburb', 0): 21,\n",
              " ('becom', 0): 1374,\n",
              " ('imposs', 0): 188,\n",
              " ('craziest', 0): 4,\n",
              " ('insight', 0): 142,\n",
              " ('give', 0): 2307,\n",
              " ('us', 0): 1779,\n",
              " ('energi', 0): 131,\n",
              " ('littl', 0): 2631,\n",
              " ('effort', 0): 327,\n",
              " ('without', 0): 1355,\n",
              " ('must', 0): 1316,\n",
              " ('chang', 0): 868,\n",
              " ('even', 0): 3824,\n",
              " ('substitut', 0): 27,\n",
              " ('conserv', 0): 53,\n",
              " ('implement', 0): 4,\n",
              " ('immedi', 0): 232,\n",
              " ('theyll', 0): 38,\n",
              " ('smooth', 0): 60,\n",
              " ('land', 0): 209,\n",
              " ('strang', 0): 437,\n",
              " ('postoil', 0): 3,\n",
              " ('claim', 0): 172,\n",
              " ('start', 0): 1416,\n",
              " ('nowbr', 0): 29,\n",
              " ('despit', 0): 561,\n",
              " ('gloomi', 0): 27,\n",
              " ('messag', 0): 408,\n",
              " ('often', 0): 746,\n",
              " ('entertain', 0): 1225,\n",
              " ('contain', 0): 320,\n",
              " ('fabul', 0): 102,\n",
              " ('histor', 0): 275,\n",
              " ('footag', 0): 198,\n",
              " ('sober', 0): 28,\n",
              " ('imag', 0): 427,\n",
              " ('dark', 0): 718,\n",
              " ('urban', 0): 104,\n",
              " ('factori', 0): 63,\n",
              " ('campi', 0): 55,\n",
              " ('funni', 0): 1554,\n",
              " ('stuff', 0): 406,\n",
              " ('1950', 0): 113,\n",
              " ('remind', 0): 431,\n",
              " ('move', 0): 1096,\n",
              " ('place', 0): 1156,\n",
              " ('offer', 0): 484,\n",
              " ('hope', 0): 962,\n",
              " ('massiv', 0): 76,\n",
              " ('eas', 0): 34,\n",
              " ('transit', 0): 64,\n",
              " ('better', 0): 1842,\n",
              " ('placebr', 0): 26,\n",
              " ('complaint', 0): 113,\n",
              " ('spend', 0): 245,\n",
              " ('mysteri', 0): 544,\n",
              " ('emerg', 0): 103,\n",
              " ('sudden', 0): 92,\n",
              " ('1970', 0): 113,\n",
              " ('prepar', 0): 164,\n",
              " ('altern', 0): 100,\n",
              " ('research', 0): 93,\n",
              " ('smaller', 0): 44,\n",
              " ('car', 0): 555,\n",
              " ('failur', 0): 79,\n",
              " ('follow', 0): 956,\n",
              " ('presid', 0): 125,\n",
              " ('jimmi', 0): 157,\n",
              " ('carter', 0): 60,\n",
              " ('initi', 0): 198,\n",
              " ('25', 0): 61,\n",
              " ('year', 0): 2918,\n",
              " ('ago', 0): 447,\n",
              " ('doom', 0): 82,\n",
              " ('hard', 0): 897,\n",
              " ('shout', 0): 55,\n",
              " ('soapboxesbr', 0): 1,\n",
              " ('end', 0): 3478,\n",
              " ('persuas', 0): 16,\n",
              " ('left', 0): 711,\n",
              " ('terribl', 0): 254,\n",
              " ('chill', 0): 175,\n",
              " ('drag', 0): 152,\n",
              " ('dream', 0): 478,\n",
              " ('view', 0): 1005,\n",
              " ('afraid', 0): 145,\n",
              " ('face', 0): 869,\n",
              " ('like', 0): 8081,\n",
              " ('near', 0): 299,\n",
              " ('charl', 0): 273,\n",
              " ('came', 0): 710,\n",
              " ('upon', 0): 366,\n",
              " ('deliri', 0): 21,\n",
              " ('heard', 0): 429,\n",
              " ('listen', 0): 249,\n",
              " ('entir', 0): 682,\n",
              " ('comed', 0): 140,\n",
              " ('perform', 0): 2849,\n",
              " ('laugh', 0): 1004,\n",
              " ('eddi', 0): 126,\n",
              " ('abil', 0): 241,\n",
              " ('paint', 0): 172,\n",
              " ('hilari', 0): 570,\n",
              " ('pictur', 0): 857,\n",
              " ('mind', 0): 865,\n",
              " ('imit', 0): 67,\n",
              " ('captiv', 0): 130,\n",
              " ('final', 0): 1324,\n",
              " ('got', 0): 1243,\n",
              " ('see', 0): 5883,\n",
              " ('murphi', 0): 84,\n",
              " ('show', 0): 4279,\n",
              " ('geniu', 0): 242,\n",
              " ('new', 0): 1822,\n",
              " ('millennium', 0): 7,\n",
              " ('1983', 0): 36,\n",
              " ('today', 0): 706,\n",
              " ('parent', 0): 441,\n",
              " ('teenag', 0): 358,\n",
              " ('age', 0): 725,\n",
              " ('eighteen', 0): 8,\n",
              " ('point', 0): 1319,\n",
              " ('america', 0): 323,\n",
              " ('harlem', 0): 8,\n",
              " ('night', 0): 911,\n",
              " ('comedian', 0): 93,\n",
              " ('film', 0): 19952,\n",
              " ('stereotyp', 0): 171,\n",
              " ('danc', 0): 679,\n",
              " ('pickup', 0): 26,\n",
              " ('line', 0): 1083,\n",
              " ('vulner', 0): 67,\n",
              " ('peopl', 0): 3511,\n",
              " ('heart', 0): 732,\n",
              " ('kevin', 0): 141,\n",
              " ('jame', 0): 509,\n",
              " ('play', 0): 3980,\n",
              " ('convinc', 0): 344,\n",
              " ('role', 0): 1862,\n",
              " ('smith', 0): 228,\n",
              " ('satisfi', 0): 210,\n",
              " ('action', 0): 1310,\n",
              " ('hackney', 0): 14,\n",
              " ('genr', 0): 518,\n",
              " ('succeed', 0): 107,\n",
              " ('way', 0): 3411,\n",
              " ('dont', 0): 2672,\n",
              " ('intend', 0): 178,\n",
              " ('sound', 0): 752,\n",
              " ('overli', 0): 66,\n",
              " ('endear', 0): 86,\n",
              " ('wasnt', 0): 688,\n",
              " ('groundbreak', 0): 29,\n",
              " ('sort', 0): 559,\n",
              " ('worth', 0): 1005,\n",
              " ('york', 0): 386,\n",
              " ('couldnt', 0): 367,\n",
              " ('simpl', 0): 548,\n",
              " ('human', 0): 1076,\n",
              " ('mankind', 0): 31,\n",
              " ('hutzpah', 0): 1,\n",
              " ('hitch', 0): 57,\n",
              " ('sure', 0): 1130,\n",
              " ('barstud', 0): 1,\n",
              " ('get', 0): 5038,\n",
              " ('chick', 0): 89,\n",
              " ('exclud', 0): 9,\n",
              " ('rake', 0): 6,\n",
              " ('seven', 0): 136,\n",
              " ('figur', 0): 413,\n",
              " ('cours', 0): 1073,\n",
              " ('work', 0): 2875,\n",
              " ('focu', 0): 210,\n",
              " ('dramat', 0): 293,\n",
              " ('comedi', 0): 1478,\n",
              " ('two', 0): 2762,\n",
              " ('hour', 0): 583,\n",
              " ('doubt', 0): 339,\n",
              " ('made', 0): 2812,\n",
              " ('sit', 0): 352,\n",
              " ('seat', 0): 148,\n",
              " ('immers', 0): 35,\n",
              " ('charact', 0): 5420,\n",
              " ('smile', 0): 202,\n",
              " ('delight', 0): 353,\n",
              " ('small', 0): 716,\n",
              " ('ignor', 0): 212,\n",
              " ('critic', 0): 515,\n",
              " ('fail', 0): 281,\n",
              " ('audienc', 0): 994,\n",
              " ('deserv', 0): 526,\n",
              " ('simpli', 0): 727,\n",
              " ('showcas', 0): 76,\n",
              " ('bud', 0): 69,\n",
              " ('talent', 0): 644,\n",
              " ('audrey', 0): 17,\n",
              " ('tautou', 0): 9,\n",
              " ('greater', 0): 105,\n",
              " ('recognit', 0): 56,\n",
              " ('cognoscenti', 0): 3,\n",
              " ('lack', 0): 514,\n",
              " ('pretens', 0): 25,\n",
              " ('reli', 0): 91,\n",
              " ('quirki', 0): 88,\n",
              " ('character', 0): 89,\n",
              " ('itã', 0): 1,\n",
              " ('rumin', 0): 5,\n",
              " ('interconnect', 0): 8,\n",
              " ('behavior', 0): 126,\n",
              " ('manag', 0): 584,\n",
              " ('amus', 0): 255,\n",
              " ('affirm', 0): 16,\n",
              " ('unlik', 0): 420,\n",
              " ('itsã', 0): 1,\n",
              " ('acclaim', 0): 48,\n",
              " ('competit', 0): 82,\n",
              " ('tast', 0): 226,\n",
              " ('other', 0): 733,\n",
              " ('gena', 0): 18,\n",
              " ('rowland', 0): 34,\n",
              " ('actress', 0): 588,\n",
              " ('lose', 0): 323,\n",
              " ('grip', 0): 134,\n",
              " ('realiti', 0): 495,\n",
              " ('wit', 0): 313,\n",
              " ('death', 0): 905,\n",
              " ('fan', 0): 1359,\n",
              " ('increasingli', 0): 66,\n",
              " ('delud', 0): 12,\n",
              " ('result', 0): 386,\n",
              " ('emot', 0): 908,\n",
              " ('turmoil', 0): 33,\n",
              " ('intrud', 0): 28,\n",
              " ('sens', 0): 877,\n",
              " ('break', 0): 412,\n",
              " ('rule', 0): 194,\n",
              " ('improvis', 0): 48,\n",
              " ('everyth', 0): 992,\n",
              " ('yet', 0): 1123,\n",
              " ('engag', 0): 264,\n",
              " ('interest', 0): 1890,\n",
              " ('bit', 0): 1417,\n",
              " ('selfimport', 0): 4,\n",
              " ('parallel', 0): 77,\n",
              " ('cassavett', 0): 17,\n",
              " ('struggl', 0): 330,\n",
              " ('filmmak', 0): 408,\n",
              " ('idea', 0): 770,\n",
              " ('thrown', 0): 117,\n",
              " ('around', 0): 1266,\n",
              " ('muddl', 0): 10,\n",
              " ('im', 0): 1549,\n",
              " ('ponder', 0): 32,\n",
              " ('relat', 0): 354,\n",
              " ('dead', 0): 555,\n",
              " ('among', 0): 400,\n",
              " ('theyr', 0): 360,\n",
              " ('present', 0): 687,\n",
              " ('rawest', 0): 1,\n",
              " ('form', 0): 457,\n",
              " ('consist', 0): 162,\n",
              " ('thoughtprovok', 0): 49,\n",
              " ('doubl', 0): 135,\n",
              " ('bill', 0): 370,\n",
              " ('mulholland', 0): 17,\n",
              " ('drivebr', 0): 1,\n",
              " ('spoiler', 0): 260,\n",
              " ('midlif', 0): 19,\n",
              " ('crisi', 0): 61,\n",
              " ('fed', 0): 36,\n",
              " ('marriag', 0): 198,\n",
              " ('cindi', 0): 24,\n",
              " ('teddi', 0): 25,\n",
              " ('siddal', 0): 1,\n",
              " ('seem', 0): 2457,\n",
              " ('stay', 0): 442,\n",
              " ('forceusaf', 0): 1,\n",
              " ('elit', 0): 26,\n",
              " ('red', 0): 237,\n",
              " ('beret', 0): 6,\n",
              " ('sgt', 0): 22,\n",
              " ('major', 0): 468,\n",
              " ('davi', 0): 219,\n",
              " ('bay', 0): 32,\n",
              " ('gari', 0): 123,\n",
              " ('coledecid', 0): 1,\n",
              " ('morn', 0): 110,\n",
              " ('walk', 0): 378,\n",
              " ('away', 0): 1008,\n",
              " ('civilian', 0): 28,\n",
              " ('david', 0): 508,\n",
              " ('met', 0): 141,\n",
              " ('halloween', 0): 87,\n",
              " ('parti', 0): 281,\n",
              " ('sweet', 0): 310,\n",
              " ('ador', 0): 115,\n",
              " ('alyson', 0): 8,\n",
              " ('karen', 0): 55,\n",
              " ('silla', 0): 4,\n",
              " ('background', 0): 296,\n",
              " ('secret', 0): 315,\n",
              " ('tell', 0): 1261,\n",
              " ('top', 0): 776,\n",
              " ('militari', 0): 146,\n",
              " ('outfit', 0): 55,\n",
              " ('perfect', 0): 1018,\n",
              " ('cover', 0): 290,\n",
              " ('back', 0): 1912,\n",
              " ('jackson', 0): 158,\n",
              " ('afb', 0): 1,\n",
              " ('outsid', 0): 293,\n",
              " ('austin', 0): 35,\n",
              " ('tex', 0): 7,\n",
              " ('review', 0): 690,\n",
              " ('option', 0): 43,\n",
              " ('usaf', 0): 5,\n",
              " ('decid', 0): 622,\n",
              " ('ident', 0): 161,\n",
              " ('call', 0): 890,\n",
              " ('date', 0): 385,\n",
              " ('know', 0): 2851,\n",
              " ('name', 0): 1012,\n",
              " ('haywoodi', 0): 1,\n",
              " ('marri', 0): 455,\n",
              " ('herbr', 0): 65,\n",
              " ('fake', 0): 106,\n",
              " ('bicycl', 0): 16,\n",
              " ('accid', 0): 136,\n",
              " ('dave', 0): 79,\n",
              " ('purpos', 0): 182,\n",
              " ('leav', 0): 918,\n",
              " ('wife', 0): 858,\n",
              " ('kid', 0): 1025,\n",
              " ('cold', 0): 252,\n",
              " ('desert', 0): 144,\n",
              " ('oblig', 0): 26,\n",
              " ('countryit', 0): 1,\n",
              " ('didnt', 0): 1327,\n",
              " ('take', 0): 2723,\n",
              " ('long', 0): 1315,\n",
              " ('appeal', 0): 282,\n",
              " ('late', 0): 561,\n",
              " ('boy', 0): 888,\n",
              " ('brig', 0): 1,\n",
              " ('courtmarti', 0): 4,\n",
              " ('job', 0): 1136,\n",
              " ('support', 0): 733,\n",
              " ('infant', 0): 16,\n",
              " ('son', 0): 590,\n",
              " ('chri', 0): 171,\n",
              " ('skill', 0): 196,\n",
              " ('learn', 0): 632,\n",
              " ('rob', 0): 180,\n",
              " ('banksbr', 0): 1,\n",
              " ('base', 0): 653,\n",
              " ('told', 0): 502,\n",
              " ('bayhaywood', 0): 1,\n",
              " ('three', 0): 940,\n",
              " ('differ', 0): 1443,\n",
              " ('famili', 0): 1569,\n",
              " ('ruthless', 0): 54,\n",
              " ('bank', 0): 106,\n",
              " ('robber', 0): 40,\n",
              " ('anoth', 0): 1617,\n",
              " ('decor', 0): 60,\n",
              " ('prime', 0): 97,\n",
              " ('misnist', 0): 1,\n",
              " ('gb', 0): 4,\n",
              " ('allamerican', 0): 12,\n",
              " ('hero', 0): 504,\n",
              " ('cole', 0): 59,\n",
              " ('effect', 0): 1299,\n",
              " ('master', 0): 413,\n",
              " ('bayhusband', 0): 1,\n",
              " ('haywood', 0): 1,\n",
              " ('though', 0): 1825,\n",
              " ('unforgiv', 0): 15,\n",
              " ('understand', 0): 956,\n",
              " ('case', 0): 593,\n",
              " ('depress', 0): 191,\n",
              " ('pressur', 0): 63,\n",
              " ('nag', 0): 6,\n",
              " ('want', 0): 2280,\n",
              " ('lost', 0): 566,\n",
              " ('sought', 0): 27,\n",
              " ('profession', 0): 180,\n",
              " ('counsel', 0): 11,\n",
              " ('forc', 0): 570,\n",
              " ('gladli', 0): 18,\n",
              " ('provid', 0): 503,\n",
              " ('choos', 0): 148,\n",
              " ('easi', 0): 378,\n",
              " ('lead', 0): 1132,\n",
              " ('straight', 0): 231,\n",
              " ('levenworth', 0): 1,\n",
              " ('ferder', 0): 1,\n",
              " ('prison', 0): 290,\n",
              " ('may', 0): 1518,\n",
              " ('macho', 0): 19,\n",
              " ('thought', 0): 1382,\n",
              " ('bad', 0): 1429,\n",
              " ('mark', 0): 373,\n",
              " ('career', 0): 441,\n",
              " ('ego', 0): 46,\n",
              " ('problemsbr', 0): 12,\n",
              " ('glue', 0): 11,\n",
              " ('togeth', 0): 982,\n",
              " ('along', 0): 829,\n",
              " ('husband', 0): 455,\n",
              " ('explan', 0): 84,\n",
              " ('frequent', 0): 129,\n",
              " ('disappear', 0): 127,\n",
              " ('week', 0): 256,\n",
              " ('covert', 0): 11,\n",
              " ('countri', 0): 506,\n",
              " ('safe', 0): 102,\n",
              " ('domest', 0): 42,\n",
              " ('foreign', 0): 152,\n",
              " ('terrorist', 0): 89,\n",
              " ('real', 0): 1991,\n",
              " ('absenc', 0): 41,\n",
              " ('plane', 0): 129,\n",
              " ('earn', 0): 101,\n",
              " ('given', 0): 661,\n",
              " ('subvers', 0): 18,\n",
              " ('beretsbr', 0): 1,\n",
              " ('track', 0): 258,\n",
              " ('mom', 0): 141,\n",
              " ('carolyn', 0): 1,\n",
              " ('baylinda', 0): 1,\n",
              " ('goranson', 0): 1,\n",
              " ('sinc', 0): 1161,\n",
              " ('portland', 0): 4,\n",
              " ('truth', 0): 371,\n",
              " ('tripl', 0): 17,\n",
              " ('linda', 0): 36,\n",
              " ('awol', 0): 3,\n",
              " ('anyth', 0): 846,\n",
              " ('guess', 0): 453,\n",
              " ('standard', 0): 254,\n",
              " ('hollywood', 0): 772,\n",
              " ('tv', 0): 1064,\n",
              " ('that', 0): 1156,\n",
              " ('expect', 0): 1073,\n",
              " ('record', 0): 267,\n",
              " ('studio', 0): 299,\n",
              " ('hear', 0): 360,\n",
              " ('voic', 0): 553,\n",
              " ('angel', 0): 194,\n",
              " ('miss', 0): 882,\n",
              " ('van', 0): 154,\n",
              " ('doren', 0): 2,\n",
              " ('audit', 0): 38,\n",
              " ('andrew', 0): 134,\n",
              " ('father', 0): 941,\n",
              " ('approv', 0): 26,\n",
              " ('radio', 0): 178,\n",
              " ('singer', 0): 160,\n",
              " ('howev', 0): 1387,\n",
              " ('certain', 0): 359,\n",
              " ('bigwig', 0): 2,\n",
              " ('mr', 0): 764,\n",
              " ('bixbi', 0): 3,\n",
              " ('dad', 0): 194,\n",
              " ('hire', 0): 130,\n",
              " ('approvalbr', 0): 1,\n",
              " ('within', 0): 317,\n",
              " ('minut', 0): 844,\n",
              " ('amok', 0): 8,\n",
              " ('caus', 0): 397,\n",
              " ('havoc', 0): 19,\n",
              " ('musician', 0): 94,\n",
              " ('kill', 0): 1040,\n",
              " ('ruin', 0): 123,\n",
              " ('session', 0): 38,\n",
              " ('calm', 0): 48,\n",
              " ('whew', 0): 3,\n",
              " ('elud', 0): 13,\n",
              " ('moe', 0): 35,\n",
              " ('yeah', 0): 101,\n",
              " ('answer', 0): 264,\n",
              " ('curlybr', 0): 1,\n",
              " ('fool', 0): 116,\n",
              " ('put', 0): 1208,\n",
              " ('curli', 0): 32,\n",
              " ('dress', 0): 213,\n",
              " ('women', 0): 643,\n",
              " ('cloth', 0): 143,\n",
              " ('sing', 0): 436,\n",
              " ('impress', 0): 676,\n",
              " ('seniorita', 0): 1,\n",
              " ('cucacha', 0): 1,\n",
              " ('spot', 0): 239,\n",
              " ('extra', 0): 216,\n",
              " ('500', 0): 15,\n",
              " ('she', 0): 551,\n",
              " ('ask', 0): 525,\n",
              " ('highsocieti', 0): 3,\n",
              " ('rest', 0): 555,\n",
              " ('sayi', 0): 2,\n",
              " ('opera', 0): 222,\n",
              " ('oh', 0): 268,\n",
              " ('accompani', 0): 99,\n",
              " ('senior', 0): 24,\n",
              " ('mucho', 0): 2,\n",
              " ('gustobr', 0): 1,\n",
              " ('win', 0): 387,\n",
              " ('slapstick', 0): 78,\n",
              " ('antic', 0): 55,\n",
              " ('pretti', 0): 1173,\n",
              " ('episod', 0): 1116,\n",
              " ('enjoy', 0): 2171,\n",
              " ('wouldnt', 0): 288,\n",
              " ('rate', 0): 742,\n",
              " ('special', 0): 799,\n",
              " ('law', 0): 210,\n",
              " ('experi', 0): 751,\n",
              " ('extrem', 0): 633,\n",
              " ('stand', 0): 537,\n",
              " ('seen', 0): 2677,\n",
              " ('itbr', 0): 365,\n",
              " ('goe', 0): 910,\n",
              " ('almost', 0): 1237,\n",
              " ('70', 0): 269,\n",
              " ('dick', 0): 101,\n",
              " ('pussi', 0): 3,\n",
              " ('tit', 0): 11,\n",
              " ('insault', 0): 1,\n",
              " ('famou', 0): 365,\n",
              " ('elvi', 0): 22,\n",
              " ('mrt', 0): 1,\n",
              " ('michael', 0): 562,\n",
              " ('stevi', 0): 3,\n",
              " ('wonder', 0): 1848,\n",
              " ('mick', 0): 26,\n",
              " ('jagger', 0): 17,\n",
              " ('luther', 0): 10,\n",
              " ('vandross', 0): 1,\n",
              " ('brown', 0): 155,\n",
              " ('serious', 0): 275,\n",
              " ('person', 0): 1399,\n",
              " ('saw', 0): 1387,\n",
              " ('matter', 0): 579,\n",
              " ('hell', 0): 337,\n",
              " ('tri', 0): 1935,\n",
              " ('pleas', 0): 404,\n",
              " ('kurt', 0): 66,\n",
              " ('weill', 0): 2,\n",
              " ('celebr', 0): 172,\n",
              " ('brooklyn', 0): 41,\n",
              " ('unearth', 0): 8,\n",
              " ('screen', 0): 1096,\n",
              " ('amaz', 0): 910,\n",
              " ('motion', 0): 138,\n",
              " ('era', 0): 310,\n",
              " ('weillgershwin', 0): 1,\n",
              " ('collabor', 0): 64,\n",
              " ('possibl', 0): 641,\n",
              " ('score', 0): 581,\n",
              " ('tall', 0): 55,\n",
              " ('cd', 0): 48,\n",
              " ('materi', 0): 262,\n",
              " ('gershwin', 0): 28,\n",
              " ('underscor', 0): 19,\n",
              " ('merit', 0): 61,\n",
              " ('consider', 0): 104,\n",
              " ('ye', 0): 562,\n",
              " ('problem', 0): 786,\n",
              " ('ratoff', 0): 1,\n",
              " ('element', 0): 468,\n",
              " ('director', 0): 1695,\n",
              " ('music', 0): 2119,\n",
              " ('fantasi', 0): 253,\n",
              " ('fred', 0): 111,\n",
              " ('macmurray', 0): 5,\n",
              " ('quit', 0): 1671,\n",
              " ('grasp', 0): 56,\n",
              " ('modern', 0): 420,\n",
              " ('segment', 0): 174,\n",
              " ('weakli', 0): 2,\n",
              " ('written', 0): 532,\n",
              " ('carri', 0): 426,\n",
              " ('ladi', 0): 443,\n",
              " ('joan', 0): 127,\n",
              " ('lesli', 0): 71,\n",
              " ('june', 0): 50,\n",
              " ('haver', 0): 2,\n",
              " ('charm', 0): 465,\n",
              " ('kind', 0): 1096,\n",
              " ('desper', 0): 199,\n",
              " ('need', 0): 1210,\n",
              " ('war', 0): 1280,\n",
              " ('ii', 0): 150,\n",
              " ('salut', 0): 9,\n",
              " ('albeit', 0): 78,\n",
              " ('framework', 0): 10,\n",
              " ('avail', 0): 261,\n",
              " ('sexi', 0): 196,\n",
              " ('star', 0): 1566,\n",
              " ('swayz', 0): 19,\n",
              " ('sexual', 0): 370,\n",
              " ('desir', 0): 245,\n",
              " ('shown', 0): 452,\n",
              " ('femal', 0): 316,\n",
              " ('unusu', 0): 200,\n",
              " ('event', 0): 579,\n",
              " ('rare', 0): 392,\n",
              " ('motiv', 0): 138,\n",
              " ('primarili', 0): 53,\n",
              " ('lust', 0): 65,\n",
              " ('nice', 0): 1015,\n",
              " ('cope', 0): 60,\n",
              " ('issu', 0): 366,\n",
              " ('class', 0): 372,\n",
              " ('ideal', 0): 123,\n",
              " ('suddenli', 0): 181,\n",
              " ('sappi', 0): 44,\n",
              " ('moment', 0): 1153,\n",
              " ('pleasur', 0): 184,\n",
              " ('fun', 0): 1206,\n",
              " ('romanc', 0): 378,\n",
              " ('polit', 0): 449,\n",
              " ('enlighten', 0): 37,\n",
              " ('watermelon', 0): 3,\n",
              " ('last', 0): 1272,\n",
              " ('seduct', 0): 54,\n",
              " ('noir', 0): 225,\n",
              " ('style', 0): 718,\n",
              " ('john', 0): 1017,\n",
              " ('dahl', 0): 13,\n",
              " ('creat', 0): 765,\n",
              " ('nich', 0): 9,\n",
              " ('theme', 0): 571,\n",
              " ('adulteri', 0): 16,\n",
              " ('blackmail', 0): 32,\n",
              " ('earli', 0): 682,\n",
              " ('90', 0): 133,\n",
              " ('opinion', 0): 422,\n",
              " ('regard', 0): 249,\n",
              " ('nowaday', 0): 79,\n",
              " ('resort', 0): 49,\n",
              " ('televis', 0): 422,\n",
              " ('showsit', 0): 1,\n",
              " ('shame', 0): 249,\n",
              " ('talentbr', 0): 13,\n",
              " ('revolv', 0): 112,\n",
              " ('drifter', 0): 15,\n",
              " ('cage', 0): 107,\n",
              " ('town', 0): 522,\n",
              " ('wyom', 0): 15,\n",
              " ('prove', 0): 436,\n",
              " ('lucki', 0): 122,\n",
              " ('mistaken', 0): 42,\n",
              " ('hitman', 0): 40,\n",
              " ('texa', 0): 115,\n",
              " ('bar', 0): 154,\n",
              " ('owner', 0): 156,\n",
              " ('jt', 0): 6,\n",
              " ('walsh', 0): 42,\n",
              " ('task', 0): 88,\n",
              " ('boyl', 0): 35,\n",
              " ('split', 0): 68,\n",
              " ('upfront', 0): 7,\n",
              " ('payment', 0): 8,\n",
              " ('accident', 0): 95,\n",
              " ('guy', 0): 1418,\n",
              " ('road', 0): 201,\n",
              " ('local', 0): 401,\n",
              " ('hospit', 0): 195,\n",
              " ('coincid', 0): 41,\n",
              " ('meet', 0): 780,\n",
              " ('appear', 0): 901,\n",
              " ('sheriff', 0): 82,\n",
              " ('escap', 0): 392,\n",
              " ('clutch', 0): 18,\n",
              " ('denni', 0): 91,\n",
              " ('hopperbr', 0): 2,\n",
              " ('cowritten', 0): 8,\n",
              " ('therefor', 0): 133,\n",
              " ('project', 0): 223,\n",
              " ('turn', 0): 1436,\n",
              " ('decent', 0): 262,\n",
              " ('close', 0): 641,\n",
              " ('frame', 0): 190,\n",
              " ('deter', 0): 13,\n",
              " ('pace', 0): 434,\n",
              " ('structur', 0): 112,\n",
              " ('script', 0): 804,\n",
              " ('durat', 0): 25,\n",
              " ('lenghtbr', 0): 1,\n",
              " ('portray', 0): 943,\n",
              " ('realist', 0): 461,\n",
              " ('somewhat', 0): 394,\n",
              " ('restrain', 0): 49,\n",
              " ('facial', 0): 78,\n",
              " ('express', 0): 359,\n",
              " ('lara', 0): 7,\n",
              " ('flynn', 0): 95,\n",
              " ('hot', 0): 245,\n",
              " ('handl', 0): 219,\n",
              " ('part', 0): 2041,\n",
              " ('femm', 0): 44,\n",
              " ('fatal', 0): 91,\n",
              " ('hairstyl', 0): 15,\n",
              " ('far', 0): 979,\n",
              " ('knee', 0): 23,\n",
              " ('hopper', 0): 46,\n",
              " ('miscast', 0): 26,\n",
              " ('qualiti', 0): 527,\n",
              " ('mindbr', 0): 26,\n",
              " ('deja', 0): 8,\n",
              " ('vu', 0): 9,\n",
              " ('previou', 0): 285,\n",
              " ('murder', 0): 875,\n",
              " ('sub', 0): 51,\n",
              " ('plot', 0): 1943,\n",
              " ('similar', 0): 453,\n",
              " ('overal', 0): 619,\n",
              " ('710', 0): 151,\n",
              " ('although', 0): 1153,\n",
              " ('cassavet', 0): 91,\n",
              " ('minni', 0): 22,\n",
              " ('moskowitz', 0): 9,\n",
              " ('endeavour', 0): 5,\n",
              " ('whimsic', 0): 25,\n",
              " ('surprisingli', 0): 256,\n",
              " ('rang', 0): 166,\n",
              " ('drama', 0): 743,\n",
              " ('contrari', 0): 46,\n",
              " ('imdb', 0): 199,\n",
              " ('profil', 0): 20,\n",
              " ('arbitrari', 0): 7,\n",
              " ('succe', 0): 86,\n",
              " ('tad', 0): 42,\n",
              " ('artist', 0): 419,\n",
              " ('aspect', 0): 347,\n",
              " ('cinematographi', 0): 445,\n",
              " ('camerawork', 0): 37,\n",
              " ('soundtrack', 0): 424,\n",
              " ('bare', 0): 141,\n",
              " ('complimentari', 0): 6,\n",
              " ('plu', 0): 237,\n",
              " ('notic', 0): 356,\n",
              " ('nod', 0): 53,\n",
              " ('godard', 0): 15,\n",
              " ('edit', 0): 371,\n",
              " ('abrupt', 0): 29,\n",
              " ('cut', 0): 447,\n",
              " ('song', 0): 888,\n",
              " ('scene', 0): 3910,\n",
              " ('interestingbr', 0): 19,\n",
              " ('built', 0): 89,\n",
              " ('half', 0): 515,\n",
              " ('particularli', 0): 460,\n",
              " ('seymour', 0): 51,\n",
              " ('convers', 0): 170,\n",
              " ('morgan', 0): 93,\n",
              " ('timothi', 0): 54,\n",
              " ('carey', 0): 32,\n",
              " ('diner', 0): 20,\n",
              " ('exampl', 0): 510,\n",
              " ('tone', 0): 249,\n",
              " ('philosoph', 0): 63,\n",
              " ('commentari', 0): 179,\n",
              " ('throughout', 0): 583,\n",
              " ('philosophis', 0): 1,\n",
              " ('tradit', 0): 276,\n",
              " ('profound', 0): 78,\n",
              " ('monologu', 0): 22,\n",
              " ('instantli', 0): 56,\n",
              " ('elimin', 0): 36,\n",
              " ('hippi', 0): 60,\n",
              " ('simp', 0): 1,\n",
              " ('curious', 0): 12,\n",
              " ('1968', 0): 40,\n",
              " ('tip', 0): 46,\n",
              " ('second', 0): 807,\n",
              " ('gain', 0): 113,\n",
              " ('affect', 0): 254,\n",
              " ('viewingbr', 0): 11,\n",
              " ('sadli', 0): 151,\n",
              " ('sever', 0): 721,\n",
              " ('imperfect', 0): 15,\n",
              " ('unbalanc', 0): 6,\n",
              " ('said', 0): 793,\n",
              " ('build', 0): 368,\n",
              " ('wane', 0): 7,\n",
              " ('toward', 0): 364,\n",
              " ('spontan', 0): 31,\n",
              " ('freedom', 0): 151,\n",
              " ('allow', 0): 462,\n",
              " ('actor', 0): 2429,\n",
              " ('product', 0): 851,\n",
              " ('easili', 0): 357,\n",
              " ('either', 0): 516,\n",
              " ('inconsist', 0): 28,\n",
              " ('assess', 0): 16,\n",
              " ('beauti', 0): 1916,\n",
              " ('unfortun', 0): 411,\n",
              " ('particular', 0): 349,\n",
              " ('fight', 0): 705,\n",
              " ('associ', 0): 119,\n",
              " ('hous', 0): 764,\n",
              " ('intens', 0): 311,\n",
              " ('free', 0): 223,\n",
              " ('dialogu', 0): 470,\n",
              " ('presum', 0): 46,\n",
              " ('beforehand', 0): 13,\n",
              " ('mistak', 0): 158,\n",
              " ('cassel', 0): 18,\n",
              " ('repeatedli', 0): 49,\n",
              " ('fumbl', 0): 8,\n",
              " ('speech', 0): 115,\n",
              " ('overact', 0): 44,\n",
              " ('damag', 0): 66,\n",
              " ('develop', 0): 533,\n",
              " ('brash', 0): 14,\n",
              " ('attempt', 0): 507,\n",
              " ('misappli', 0): 1,\n",
              " ('moustach', 0): 8,\n",
              " ('flaw', 0): 295,\n",
              " ('forethought', 0): 1,\n",
              " ('rehears', 0): 33,\n",
              " ('etc', 0): 371,\n",
              " ('evid', 0): 139,\n",
              " ('next', 0): 650,\n",
              " ('woman', 0): 1060,\n",
              " ('influenc', 0): 188,\n",
              " ('1974', 0): 36,\n",
              " ('commit', 0): 239,\n",
              " ('endingbr', 0): 29,\n",
              " ('mention', 0): 514,\n",
              " ('minor', 0): 212,\n",
              " ('cringeworthi', 0): 6,\n",
              " ('unrealist', 0): 45,\n",
              " ('spoil', 0): 149,\n",
              " ('flow', 0): 122,\n",
              " ('compromis', 0): 38,\n",
              " ('potenti', 0): 159,\n",
              " ('fond', 0): 76,\n",
              " ('spite', 0): 85,\n",
              " ...}"
            ]
          },
          "execution_count": 64,
          "metadata": {},
          "output_type": "execute_result"
        }
      ],
      "source": [
        "## Run this cell to get an idea about the corpus of words and their occurrence along with labels. \n",
        "## In this, we are computing the frequency of occurrence of word given that a review is 'positive'.\n",
        "## Similarly, we also compute the frequence of occurence of word given that a review is 'negative'.\n",
        "freqs"
      ]
    },
    {
      "cell_type": "markdown",
      "id": "759c24bc",
      "metadata": {
        "id": "759c24bc"
      },
      "source": [
        "## Training the Naive Bayes Model:\n",
        "\n",
        "Now we are in the training phase of the Naive Bayes algorithm. In this cell,we will take a look at the ways to calculate the log likelihood and log prior values as these are important for testing in the next few cells. \n",
        "\n",
        "Also calculate the frequency of occurrence of words where the output is negative. In the same way, calculate the word frequency count using the above functions in order to compute the log likelihood.\n",
        "\n",
        "Return the logprior and loglikelihood output by the model from this function. "
      ]
    },
    {
      "cell_type": "code",
      "execution_count": 65,
      "id": "a7f280e3",
      "metadata": {
        "id": "a7f280e3"
      },
      "outputs": [],
      "source": [
        "def train_naive_bayes(freqs, train_x, train_y):\n",
        "    loglikelihood = {}\n",
        "    logprior = 0\n",
        "\n",
        "\n",
        "    # calculate V, the number of unique words in the vocabulary\n",
        "    vocab = set([i[0] for i in freqs.keys()])\n",
        "    V = len(vocab)\n",
        "\n",
        "    # calculate num_pos and num_neg - the total number of positive and negative words for all documents\n",
        "    num_pos = num_neg = 0\n",
        "    for i in freqs.keys():\n",
        "        count = freqs[i]\n",
        "        # if the label is positive (greater than zero)\n",
        "        if i[1]==0:\n",
        "\n",
        "            # Increment the number of positive words by the count for this (word, label) pair\n",
        "            num_pos += count\n",
        "\n",
        "        # else, the label is negative\n",
        "        else:\n",
        "\n",
        "            # increment the number of negative words by the count for this (word,label) pair\n",
        "            num_neg += count\n",
        "\n",
        "    # Calculate num_doc, the number of documents\n",
        "    num_doc = len(train_y)\n",
        "\n",
        "    # Calculate D_pos, the number of positive documents \n",
        "    pos_num_docs = sum(train_y)\n",
        "\n",
        "    # Calculate D_neg, the number of negative documents \n",
        "    neg_num_docs = num_doc - pos_num_docs\n",
        "\n",
        "    # Calculate logprior\n",
        "    logprior = np.log(pos_num_docs/neg_num_docs)\n",
        "\n",
        "    # For each word in the vocabulary...\n",
        "    for word in vocab:\n",
        "        # get the positive and negative frequency of the word\n",
        "        freq_pos = freqs.get((word,0),0)\n",
        "        freq_neg = freqs.get((word,1),0)\n",
        "\n",
        "        # calculate the probability that each word is positive, and negative\n",
        "        p_w_pos = (freq_pos+1)/(num_pos+V)\n",
        "        p_w_neg = (freq_neg+1)/(num_neg+V)\n",
        "\n",
        "        # calculate the log likelihood of the word\n",
        "        loglikelihood[word] = np.log(p_w_pos/p_w_neg)\n",
        "\n",
        "\n",
        "    return logprior, loglikelihood"
      ]
    },
    {
      "cell_type": "code",
      "execution_count": 66,
      "id": "1561d892",
      "metadata": {
        "id": "1561d892"
      },
      "outputs": [
        {
          "name": "stdout",
          "output_type": "stream",
          "text": [
            "0.0\n",
            "75470\n"
          ]
        }
      ],
      "source": [
        "# You do not have to input any code in this cell, but it is relevant to grading, so please do not change anything\n",
        "logprior, loglikelihood = train_naive_bayes(freqs, X_train, y_train)\n",
        "print(logprior)\n",
        "print(len(loglikelihood))"
      ]
    },
    {
      "cell_type": "markdown",
      "id": "78b51303",
      "metadata": {
        "id": "78b51303"
      },
      "source": [
        "## Implementing Naive Bayes Predict Function:\n",
        "\n",
        "It is now time to make our prediction as to whether a given review is negative or positive respectively. \n",
        "\n",
        "After adding the log likelihood values, ensure that the output is 1 (negative) if the sum of the log likelihood value is greater than 0 and 0 (positive) if the sum of the log likelihood is less than or equal to 0. "
      ]
    },
    {
      "cell_type": "code",
      "execution_count": 67,
      "id": "b692c2f9",
      "metadata": {
        "id": "b692c2f9"
      },
      "outputs": [],
      "source": [
        "# TASK 4 CELL\n",
        "\n",
        "def naive_bayes_predict(review, logprior, loglikelihood):\n",
        "    # process the review to get a list of words\n",
        "    word_l = clean_review(review).split()\n",
        "\n",
        "    # initialize probability to zero\n",
        "    total_prob = 0\n",
        "\n",
        "    # add the logprior\n",
        "    total_prob += logprior\n",
        "\n",
        "    for word in word_l:\n",
        "\n",
        "        # check if the word exists in the loglikelihood dictionary\n",
        "        if word in loglikelihood:\n",
        "            # add the log likelihood of that word to the probability\n",
        "            total_prob = total_prob + loglikelihood[word]\n",
        "\n",
        "    if total_prob < 0:\n",
        "        return 1\n",
        "    else:\n",
        "        return 0\n",
        "    # return total_prob"
      ]
    },
    {
      "cell_type": "code",
      "execution_count": 68,
      "id": "4b170333",
      "metadata": {
        "colab": {
          "base_uri": "https://localhost:8080/"
        },
        "id": "4b170333",
        "outputId": "0cf6bc90-90e8-4dee-bf95-7eaf39dce147"
      },
      "outputs": [
        {
          "name": "stdout",
          "output_type": "stream",
          "text": [
            "The expected output is 1\n"
          ]
        }
      ],
      "source": [
        "# You do not have to input any code in this cell, but it is relevant to grading, so please do not change anything\n",
        "\n",
        "# Experiment with your own review.\n",
        "my_review = \"I thought this series was going to be another fun, action series with some dynamic plots and great performances. I was wrong. While I like Jamie Denton, this show is hardly worth watching at all, unless you enjoy watching some people brutalized and the actions of the agents supposedly warranted under the theme of national security. The show is great propaganda for the current government, and spews out jingoism as though we talk that way every day. After a couple of episodes, it was boring the hell out of me, and I started watching reruns of House Invaders on BBCAmerica instead. Rather watch CSI and Without a Trace, without a doubt.\"\n",
        "p = naive_bayes_predict(my_review, logprior, loglikelihood)\n",
        "print('The expected output is', p)"
      ]
    },
    {
      "cell_type": "markdown",
      "id": "7c4eeb71",
      "metadata": {
        "id": "7c4eeb71"
      },
      "source": [
        "## Implementing Naive Bayes Test function: (10 points)\n",
        "\n",
        "In this function,we will implement the previous functions such as naive_bayes_predict to get the predictions for the test set. \n",
        "\n",
        "In addition to this, the function should return the total number of reviews that it correctly classified as 'positive' or 'negative'. "
      ]
    },
    {
      "cell_type": "code",
      "execution_count": 69,
      "id": "66a511e7",
      "metadata": {
        "id": "66a511e7"
      },
      "outputs": [],
      "source": [
        "def test_naive_bayes(test_x, test_y, logprior, loglikelihood):\n",
        "    accuracy = 0  \n",
        "    y_hats = []\n",
        "    for review in test_x:\n",
        "        pred = naive_bayes_predict(review,logprior,loglikelihood)\n",
        "        # if the prediction is > 0\n",
        "        if pred > 0:\n",
        "            # the predicted class is 1\n",
        "            y_hat_i = 1\n",
        "        else:\n",
        "            # otherwise the predicted class is 0\n",
        "            y_hat_i = 0\n",
        "\n",
        "        # append the predicted class to the list y_hats\n",
        "        y_hats = y_hats.append(y_hat_i)\n",
        "\n",
        "    # error is the average of the absolute values of the differences between y_hats and test_y\n",
        "    error = sum(abs(i-j) for i, j in zip(y_hats, test_y))/len(test_y)\n",
        "\n",
        "    accuracy = sum(1 for i,j in zip(y_hats,test_y) if i==j)/len(test_y)\n",
        "    return accuracy"
      ]
    },
    {
      "cell_type": "code",
      "execution_count": 70,
      "id": "8a9c5d9d",
      "metadata": {
        "id": "8a9c5d9d"
      },
      "outputs": [
        {
          "name": "stdout",
          "output_type": "stream",
          "text": [
            "If you like original gut wrenching laughter you will like this movie. If you are young or old then y -> 0.00\n",
            "What a waste of talent. A very poor, semi-coherent, script cripples this film. Rather unimaginative  -> 1.00\n",
            "I have seen this film at least 100 times and I am still excited by it, the acting is perfect and the -> 0.00\n",
            "Cheap, amateurish, unimaginative, exploitative... but don't think it'll have redeeming amusement val -> 1.00\n"
          ]
        }
      ],
      "source": [
        "for review in [\"If you like original gut wrenching laughter you will like this movie. If you are young or old then you will love this movie, hell even my mom liked it.<br /><br />Great Camp!!!\",\n",
        "                \"What a waste of talent. A very poor, semi-coherent, script cripples this film. Rather unimaginative direction, too. Some VERY faint echoes of Fargo here, but it just doesn't come off.\",\n",
        "                \"I have seen this film at least 100 times and I am still excited by it, the acting is perfect and the romance between Joe and Jean keeps me on the edge of my seat, plus I still think Bryan Brown is the tops. Brilliant Film.\",\n",
        "                \"Cheap, amateurish, unimaginative, exploitative... but don't think it'll have redeeming amusement value. About as unentertaining, uninstructive and just plain dull as a film can be.\"]:\n",
        "    p = naive_bayes_predict(review, logprior, loglikelihood)\n",
        "    print(f'{review[:100]} -> {p:.2f}')\n",
        "    "
      ]
    },
    {
      "cell_type": "code",
      "execution_count": 71,
      "id": "216fa97a",
      "metadata": {
        "colab": {
          "base_uri": "https://localhost:8080/"
        },
        "id": "216fa97a",
        "outputId": "9d1f21c7-b324-43c2-e841-269c0306cbb4"
      },
      "outputs": [
        {
          "data": {
            "text/plain": [
              "1"
            ]
          },
          "execution_count": 71,
          "metadata": {},
          "output_type": "execute_result"
        }
      ],
      "source": [
        "my_review = 'The moview was very boring, I wanted to leave in the middle'\n",
        "naive_bayes_predict(my_review, logprior, loglikelihood)"
      ]
    },
    {
      "cell_type": "markdown",
      "id": "mAIkM4aCC1H7",
      "metadata": {
        "id": "mAIkM4aCC1H7"
      },
      "source": [
        "# Evaluating the accuracy."
      ]
    },
    {
      "cell_type": "code",
      "execution_count": 72,
      "id": "94e3f531",
      "metadata": {},
      "outputs": [],
      "source": [
        "import random\n",
        "def train_test_splitter(df,seed):\n",
        "    # shuffling the data using random\n",
        "    random.seed(seed)\n",
        "    df_majority = df[df['sentiment']=='positive']\n",
        "    df_minority = df[df['sentiment']=='negative']\n",
        "\n",
        "    negative_upsample = resample(df_minority, replace = True, \n",
        "                            n_samples = df_majority.shape[0])\n",
        "\n",
        "    df_upsampled = pd.concat([df_majority, negative_upsample]) \n",
        "    # concat two data frames i,e majority class data set and upsampled minority class data set\n",
        "    df_upsampled = df_upsampled.sample(frac = 1)\n",
        "\n",
        "\n",
        "    ## Considering 10000 positive and 10000 negative data points\n",
        "    negative_data_points_train = df_upsampled[df_upsampled['sentiment']=='negative'].iloc[:10000]\n",
        "    positive_data_points_train = df_upsampled[df_upsampled['sentiment']=='positive'].iloc[:10000]\n",
        "\n",
        "    ## Considering the remaining data points for test\n",
        "    negative_data_points_test = df_upsampled[df_upsampled['sentiment']=='negative'].iloc[10000:]\n",
        "    positive_data_points_test = df_upsampled[df_upsampled['sentiment']=='positive'].iloc[10000:]\n",
        "\n",
        "    ## Concatenate the training positive and negative reviews\n",
        "    X_train = pd.concat([positive_data_points_train['review'], negative_data_points_train['review']])\n",
        "\n",
        "    ## Concatenating the training positive and negative outputs\n",
        "    y_train = pd.concat([positive_data_points_train['sentiment'], negative_data_points_train['sentiment']])\n",
        "\n",
        "    ## Concatenating the test positive and negative reviews\n",
        "    X_test = pd.concat([positive_data_points_test['review'], negative_data_points_test['review']])\n",
        "    \n",
        "    ## Concatenating the test positive and negative outputs\n",
        "    y_test = pd.concat([positive_data_points_test['sentiment'], negative_data_points_test['sentiment']])\n",
        "\n",
        "    return X_train,X_test,y_train,y_test"
      ]
    },
    {
      "cell_type": "code",
      "execution_count": 73,
      "id": "b31de564",
      "metadata": {},
      "outputs": [],
      "source": [
        "X_train,X_test,y_train,y_test = train_test_splitter(df,41)"
      ]
    },
    {
      "cell_type": "code",
      "execution_count": 74,
      "id": "b9189736",
      "metadata": {},
      "outputs": [],
      "source": [
        "# mapping the target varibles to 0 and 1 so it can be in numerical form\n",
        "output_map = {'positive': 0, 'negative': 1}\n",
        "y_train = y_train.map(output_map)\n",
        "y_test = y_test.map(output_map)"
      ]
    },
    {
      "cell_type": "code",
      "execution_count": 75,
      "id": "e958d10f",
      "metadata": {},
      "outputs": [
        {
          "name": "stdout",
          "output_type": "stream",
          "text": [
            "0.0\n",
            "75357\n"
          ]
        }
      ],
      "source": [
        "# Model paramters with training set.\n",
        "freqs = review_counter({}, X_train, y_train)\n",
        "logprior, loglikelihood = train_naive_bayes(freqs, X_train, y_train)\n",
        "print(logprior)\n",
        "print(len(loglikelihood))"
      ]
    },
    {
      "cell_type": "code",
      "execution_count": 76,
      "id": "df5d08eb",
      "metadata": {},
      "outputs": [],
      "source": [
        "from sklearn.metrics import confusion_matrix\n",
        "\n",
        "# Confusion matrix for train dataset.\n",
        "train_predicted_labels = [naive_bayes_predict(i, logprior, loglikelihood) for i in X_train]\n",
        "train_actual_labels = list(y_train)\n",
        "train_confusion = confusion_matrix(train_actual_labels, train_predicted_labels)\n",
        "\n",
        "# Confusion matrix for test dataset.\n",
        "test_predicted_labels = [naive_bayes_predict(i, logprior, loglikelihood) for i in X_test]\n",
        "test_actual_labels = list(y_test)\n",
        "test_confusion = confusion_matrix(test_actual_labels, test_predicted_labels)"
      ]
    },
    {
      "cell_type": "code",
      "execution_count": 77,
      "id": "83dd21a5",
      "metadata": {},
      "outputs": [
        {
          "name": "stdout",
          "output_type": "stream",
          "text": [
            "Train Classification Report:\n",
            "               precision    recall  f1-score   support\n",
            "\n",
            "           0       0.95      0.90      0.93     10000\n",
            "           1       0.91      0.96      0.93     10000\n",
            "\n",
            "    accuracy                           0.93     20000\n",
            "   macro avg       0.93      0.93      0.93     20000\n",
            "weighted avg       0.93      0.93      0.93     20000\n",
            "\n",
            "Test Classification Report:\n",
            "               precision    recall  f1-score   support\n",
            "\n",
            "           0       0.89      0.85      0.87      2474\n",
            "           1       0.85      0.89      0.87      2474\n",
            "\n",
            "    accuracy                           0.87      4948\n",
            "   macro avg       0.87      0.87      0.87      4948\n",
            "weighted avg       0.87      0.87      0.87      4948\n",
            "\n"
          ]
        }
      ],
      "source": [
        "from sklearn.metrics import classification_report\n",
        "\n",
        "# Classification report for train dataset.\n",
        "train_report = classification_report(train_actual_labels, train_predicted_labels)\n",
        "\n",
        "# Classification report for test dataset.\n",
        "test_report = classification_report(test_actual_labels, test_predicted_labels)\n",
        "\n",
        "print(\"Train Classification Report:\\n\", train_report)\n",
        "print(\"Test Classification Report:\\n\", test_report)"
      ]
    },
    {
      "cell_type": "code",
      "execution_count": 78,
      "id": "873854b9",
      "metadata": {},
      "outputs": [
        {
          "data": {
            "image/png": "[encoded data removed]",
            "text/plain": [
              "<Figure size 640x480 with 1 Axes>"
            ]
          },
          "metadata": {},
          "output_type": "display_data"
        }
      ],
      "source": [
        "# Plotting Confusion Matrix for Training Data\n",
        "sns.heatmap(train_confusion, annot=True, cmap=\"flare\", fmt=\"d\", cbar=False)\n",
        "plt.xlabel(\"Predicted\")\n",
        "plt.ylabel(\"Actual\")\n",
        "plt.title(\"Confusion Matrix for Training Data\")\n",
        "plt.show()"
      ]
    },
    {
      "cell_type": "code",
      "execution_count": 79,
      "id": "1eca0c24",
      "metadata": {},
      "outputs": [
        {
          "data": {
            "image/png": "[encoded data removed]",
            "text/plain": [
              "<Figure size 640x480 with 1 Axes>"
            ]
          },
          "metadata": {},
          "output_type": "display_data"
        }
      ],
      "source": [
        "# Plotting Confusion Matrix for Testing Data\n",
        "sns.heatmap(test_confusion, annot=True, cmap=\"crest\", fmt=\"d\", cbar=False)\n",
        "plt.xlabel(\"Predicted\")\n",
        "plt.ylabel(\"Actual\")\n",
        "plt.title(\"Confusion Matrix for Testing Data\")\n",
        "plt.show()"
      ]
    },
    {
      "cell_type": "code",
      "execution_count": 80,
      "id": "a9c533f4",
      "metadata": {},
      "outputs": [],
      "source": [
        "# creating false positive and negative index list to store the index of fp's and fn's\n",
        "fp_index = []\n",
        "fn_index = []\n",
        "# iterating through y_test to check and store the indexes of fp's and fn's\n",
        "for i in range(len(y_test)):\n",
        "    # as we know fp occurs when a model preicts a class 1 as 0 and vice versa for fn \n",
        "    # we are implementing them using if and elif, then appending the index\n",
        "    if y_test.iloc[i]==0 and test_predicted_labels[i]==1:\n",
        "        fn_index.append(i)\n",
        "    elif y_test.iloc[i]==1 and test_predicted_labels[i]==0:\n",
        "        fp_index.append(i)\n",
        "\n",
        "# now going through the index and getting the reviews \n",
        "fp_reviews = [X_test.iloc[i] for i in fp_index]\n",
        "fn_reviews = [X_test.iloc[i] for i in fn_index]"
      ]
    },
    {
      "cell_type": "code",
      "execution_count": 81,
      "id": "b72bde2f",
      "metadata": {},
      "outputs": [
        {
          "name": "stdout",
          "output_type": "stream",
          "text": [
            "False Postive Cases : \n",
            "\n",
            "Predicted Label : 0, Actual Label : 1\n",
            "Review : Something of a disappointment. Lee J. Cobb is the anti-union head of Roxton Garments in New York. His partner in the business is killed when an elevator is unleashed and plunges twenty-seven floors to the bottom of the shaft, in the scariest scene in the film.<br /><br />Cobb doesn't know it, or doesn't let himself realize it, but the man behind the killing is Richard Boone, who protects the business from union organizers.<br /><br />Then Cobb's son, Kerwin Mathews, returns from Europe determined to learn the business and join his father in running a clean shop. He's shocked -- shocked! -- to learn that Boone has been clobbering the union members and killing a few who have become irretrievably irritating.<br /><br />Robert Loggia is one of the organizers who is killed by a couple of Boone's goons, led by Wesley Addy. Loggia leaves behind a widow, Gia Scala, with whom Mathews, understandably and decorously, takes up.<br /><br />In the end, Cobb pays for his self deception, Addy and Boone get their just desserts, and Mathews winds up with the succulent Scala, after whom an opera house is named.<br /><br />There isn't a sparkle in any line of dialog. A couple of lines are stolen verbatim from \"On the Waterfront\" -- \"pistoleros\", \"you'll talk yourself right into the grave.\" The plot is schematic and holds absolutely no surprises. Vincent Sherman's direction is pedestrian. The photography is flat an uninspired, though there are a couple of nice shots of New York streets.<br /><br />Lee J. Cobb can act. In this case, it must have been easy for him because he replays Johnny Friendly from \"On the Waterfront,\" only this time with a soft heart. Richard Boone can act too. Joseph Wiseman, in a minor part, does a good job. Gia Scala hits her marks, says what the script demands, and does what the director tells her to. A stunning woman, her life soured early on. The director and photographer do a good job on Wesley Addy. He has white hair, a blanched face, eyes the color of a glacial lake, and he's sometimes shot through a wide-angle lens than turns his surprisingly fleshy lips into those of some kind of parasitic fish. I don't see him as a low-tier muscle man though. He and Boone should have switched roles. Harold J. Stone is his reliable self, although he's forced to be more \"Italian\", as Tony, than comes naturally to him. Nobody else in anything resembling a major part is more than mediocre, and some performers don't clear even that bar. Kerwin Mathews may be a nice guy in real life, but he's blandly sterile and belongs in domestic dramas on afternoon television.<br /><br />Great title, suggestive of intrigue and shadows. Some good people in the cast. A potentially explosive expose of a business nobody knows much about but which deals in megabucks.<br /><br />And it all comes out like this.\n",
            "\n",
            "Predicted Label : 0, Actual Label : 1\n",
            "Review : The first episode set the bar quite high i thought. It starred William Hurt as a hit-man who is contracted to kill a toymaker. We are given very little information on his character or who is paying him to kill, indeed the episode is notable for having no dialogue at all. Returning to his modernist penthouse he is delivered a package containing toy soldiers, this gives him a smile but he dismisses it and goes about his business. But he is in for a night of hell, the soldiers are alive and are about to wage war, driving jeeps, shooting machine guns and bazookas and even flying helicopters!. The special effects are good for a TV show and it becomes quite tense as he dodges around the apartment using his wits to survive, sometimes getting the upper hand and other times not. I wont spoil the ending but suffice to say it was a clever little twist. This gave me hope for the rest of the series but i was in for a disappointment, the other episodes were all rubbish and i lost interest by the fourth one. Stephen King adaptations are always a mixed bag and these are no exception\n",
            "\n",
            "Predicted Label : 0, Actual Label : 1\n",
            "Review : What's written on the poster is: \"At birth he was given 6 years to live... At 34 he takes the journey of a lifetime.\" Ami is an American-born Israeli who was diagnosed with Muscular Dystrophy disease at the age of one. At age of 34, after the love toward his 22 years old care-giver didn't go well, he decided to come to the US to face the doctor who said that he would have only 6 years to live. He wanted to show the doctor that he is still alive, and weights 39 pounds. Why? Your guess is as good as mine, even I have seen this film.<br /><br />Obviously it's courageous to live when all he can move is his left index finger, but why does he have so much anger toward the doctor who diagnosed his disease 34 years ago? His doctor just told his mom that based on the medical history, people with his disease won't live long. What's the point of him showing up at old doctor's door for? Why is tracking down this old doctor in the US is a journey of his lifetime? There are so many things we might be interested in Ami's life: how can he make those animations with the movement of only one finger? How can he go through daily lives while totally depending on others? How did he out lived his doctor's prediction? How does he deal emotionally when other people look at him like looking at a strange creature? The movie told us none of that. Instead, the filmmaker got a van and set up a trip to let Ami to show up at his old doctor's door in order to show him that he is still alive. I thought it was a joke.\n",
            "\n",
            "Predicted Label : 0, Actual Label : 1\n",
            "Review : First of all; it's very dilettantish to try describe way of history only from positions of guns, germs and steel. The same tried to do Marxists from economical positions.<br /><br />The reason of Western success can't be just dumb luck, the advantages of domesticated plants and animals. We see, that all around the world any advantages and bonuses are complete useless if they aren't wisely managed. In the Japan there isn't huge natural resources, but Japan is one of the top world economies, the same situation in Singapore, but in Nigeria, country with rich oil resources, there are only middle-low success. Both of this nations had and still have access to Western technology and inventions, but why such gap? <br /><br />In the end of movie Daimond declared, that it's very important to understand factors of guns, germs and steel, to UNDERSTAND. Maybe the main factor of world's difference is not geography, but people ability to understand and use things? The mental ability to understand. And in this case geography is only subordinated.\n",
            "\n"
          ]
        }
      ],
      "source": [
        "print(\"False Postive Cases : \\n\")\n",
        "# Now we will be using enumerate function to iterate through fp's with indexing\n",
        "for index,review in enumerate(fp_reviews[10:14]):\n",
        "    print(f'Predicted Label : {test_predicted_labels[fp_index[index]]}, Actual Label : {y_test.iloc[fp_index[index]]}')\n",
        "    print(f'Review : {review}\\n')"
      ]
    },
    {
      "cell_type": "markdown",
      "id": "82831600",
      "metadata": {},
      "source": [
        "**REASON FOR FALSE POSITIVES**\n",
        "- The Naive Bayes model may have struggled to correctly classify the reviews due to nuanced language and mixed sentiments.\n",
        "- Improving the model's performance in such situations could involve:\n",
        "  - Using more advanced machine learning algorithms that capture nuanced sentiment better.\n",
        "  - Preprocessing the text data more effectively, including handling negations and mixed sentiment expressions.\n",
        "  - Fine-tuning the model's hyperparameters."
      ]
    },
    {
      "cell_type": "code",
      "execution_count": 82,
      "id": "e3315b29",
      "metadata": {},
      "outputs": [
        {
          "name": "stdout",
          "output_type": "stream",
          "text": [
            "False Negative Cases : \n",
            "\n",
            "Predicted Label : 1, Actual Label : 0\n",
            "False Negative Reviews : Personally, I LOVED TRIS MOVIE! My best friend told me about it so i rented it out a watched it. It's amazing! The music, the acting, the story lines the emotion, everything...... well except for one minor fact. Absolutely no loyalty to the books at all. I saw this movie before Interview with the Vampire and before i even knew the books existed, so i was shocked to find how many people actually hated the movie. I picked up quickly that the book fans weren't at all happy with the unfaithfulness, not wanting to be hypocritical (I hate the Harry Potter movies due to lack of book loyalty)i stayed silent. Eventually i picked up \"The Vampire Lestat\" and understood immediately why everyone hated it. It is completely different (The movie Queen of the damned is a combination of \"The Vampire Lestat\" and \"The Queen of the Damned\"). But i still loved the movie from when i saw it before reading any of the books. So if you haven't seen this movie or read the book watch the movie first or you'll hate it. If you have read the book then you have every right to hate this movie.\n",
            "\n",
            "Predicted Label : 1, Actual Label : 0\n",
            "False Negative Reviews : Now here is a movie that does something that hasn't been done in a long time. It take ten or so different elements that we're already familiar with (Vampires, martial arts, a techno beat, top-o-the-line special effects, etc.), and turns it into something that feels brand new. In what could have easily been merely a combination of \"Mortal Kombat\" and \"Buffy: The Vampire Slayer,\" Wesley Snipes (no favorite of mine since and mostly because of \"Passenger 57\") gives a really good turn as the half human/ half bloodsucker. He acknowledges the internal conflict, but doesn't dwell on it more than necessary. He makes Blade as deep a character as Michael Keaton made Batman.<br /><br />I'll say that the only part of the movie that got me a little miffed was the always present horror movie cliche of that one person that the hero happens to know who happens to know exactly how to stop the evil guy. On the other hand, you sort of have to have that in a movie like this, so it's easily excusable.<br /><br />Well, Snipes is good. And Steven Dorff, hyped in the previews, makes a more than bad enough bad guy to Snipes' hero. He's got class, presence, and enough control in his little pinky to teach Al Pacino how to tone it down a bit. Who would ever think that a comic book movie would be a launching pad for an actor? I sincerely hope this is. And whoa! where the heck did Kris Kristofferson get acting talent? Don't get me wrong, but the prolific actor hasn't done anything memorable since \"Millennium,\" and how many of us watched that just 'cause of the cool video box? Well, here he is, folks, in a very Obi-wanish turn, as Blade's mentor and father figure. And good job, too.<br /><br />The quality of the acting is matched by the quality of the choreography and special effects. Accompanied by a pulsing techno beat, the fight scenes brings back and quickly banish memories of Mortal Kombat. Hey! It had a script, too! I was wondering what had happened to all the good writers out there.<br /><br />The two major indications to me that I saw a quality flick were these; I had no feeling of remorse about paying full price to get in, a la any Schumacher \"Batman,\" \"The Avengers,\" \"MK: Annihilation,\" \"Godzilla,\" or \"Armageddon.\" (wow, how many of those came out this year? Ugh) Also, I look forward to the inevitable sequel, as per the film's ending. Let's just hope they do as good a job with it as with the first one.<br /><br />\n",
            "\n",
            "Predicted Label : 1, Actual Label : 0\n",
            "False Negative Reviews : The story would never win awards, but that's not what it's about... the script was just entertaining and suspenseful enough to make room for the incredibly choreographed fight scenes. Who needs a story with fighting like that? Really, it's worth watching for that reason alone. IF you can handle the gore, of which there is a LOT... none of it done realistically enough to be tough to look at. I gave it a 7.\n",
            "\n",
            "Predicted Label : 1, Actual Label : 0\n",
            "False Negative Reviews : As an earlier reviewer said, Travolta stole every scene he was in. Recognize the character? It was Vinnie Barberino, all grown up and still a bit sleazy, but still likable, oh yes! <br /><br />Disappointing were William Hurt and Bob Hoskins, perhaps because their characters were badly written, or they just didn't care. I kept seeing one of the Baldwins (never can remember which) in the Hurt role so Hurt's incredible talents weren't wasted. <br /><br />Andie McDowell is a sweetie, but not very believable; partly the writing. Character development just wasn't a big thing in this film. Just watch it for Travolta, sit back and enjoy.\n",
            "\n"
          ]
        }
      ],
      "source": [
        "print(\"False Negative Cases : \\n\")\n",
        "# Now we will be using enumerate function to iterate through fn's with indexing\n",
        "for index,review in enumerate(fn_reviews[1:5]):\n",
        "    print(f'Predicted Label : {test_predicted_labels[fn_index[index]]}, Actual Label : {y_test.iloc[fn_index[index]]}')\n",
        "    print(f'False Negative Reviews : {review}\\n')"
      ]
    },
    {
      "cell_type": "markdown",
      "id": "d28745d3",
      "metadata": {},
      "source": [
        "**REASON FOR FALSE NEGATIVES**\n",
        "- In some situations, positive words or phrases appeared in reviews that otherwise had a negative tone, confusing the model.\n",
        "- The model also had trouble picking up on irony or sarcasm, which are frequently used in movie reviews.\n",
        "- Because of its simplicity and reliance on word probabilities, it struggled to handle sophisticated language and delicate nuances."
      ]
    },
    {
      "cell_type": "markdown",
      "id": "XbzttYVnBo7W",
      "metadata": {
        "id": "XbzttYVnBo7W"
      },
      "source": [
        "# Modularizing my calssifier (10 points)\n",
        "1. Converting my code into a python module text_classifier.py\n",
        "\n",
        "2. The user should be able to launch the application on command prompt using python test_classifier.py command. The module will automatically load the model paramters from a local file of your choice and be ready to take the input from user on command prompt. The program will preprocess user input, tokenize and predict the class.\n",
        "\n",
        "3. Your module will take the input from user and output sentiment class in an indefinite loop. The output should printout the probabilities for each input token along with the final classification decision. Program will quit if user enters X.\n"
      ]
    },
    {
      "cell_type": "code",
      "execution_count": 83,
      "id": "lKAQrnnbBnKe",
      "metadata": {
        "id": "lKAQrnnbBnKe"
      },
      "outputs": [
        {
          "name": "stdout",
          "output_type": "stream",
          "text": [
            "File 'text_classifier_002626733.py' has been created.\n"
          ]
        }
      ],
      "source": [
        "script_content = '''\n",
        "import numpy as np\n",
        "import math\n",
        "import pandas as pd\n",
        "import re\n",
        "import nltk\n",
        "from nltk.corpus import stopwords\n",
        "from nltk.stem import PorterStemmer\n",
        "from nltk.tokenize import word_tokenize\n",
        "import warnings\n",
        "import seaborn as sns\n",
        "import matplotlib.pyplot as plt\n",
        "from sklearn.utils import resample\n",
        "import pickle\n",
        "\n",
        "warnings.filterwarnings(\"ignore\")\n",
        "import string\n",
        "nltk.download('stopwords')\n",
        "\n",
        "def model_generator():\n",
        "    df = pd.read_csv(\"C:/Users/nikhi/Documents/NEU/Fall_23/NLP/Assignments/Assignment 1/movie_reviews-1.csv\", sep = ',', encoding = 'latin-1', usecols = lambda col: col not in [\"Unnamed: 2\", \"Unnamed: 3\", \"Unnamed: 4\"])\n",
        "    df_majority = df[df['sentiment']=='positive']\n",
        "    df_minority = df[df['sentiment']=='negative']\n",
        "\n",
        "    negative_upsample = resample(df_minority, replace = True, \n",
        "                            n_samples = df_majority.shape[0])\n",
        "\n",
        "    df_upsampled = pd.concat([df_majority, negative_upsample])  # concat two data frames i,e majority class data set and upsampled minority class data set\n",
        "    df_upsampled = df_upsampled.sample(frac = 1)\n",
        "\n",
        "    ## Considering 10000 positive and 10000 negative data points\n",
        "    negative_data_points_train = df_upsampled[df_upsampled['sentiment']=='negative'].iloc[:10000]\n",
        "    positive_data_points_train = df_upsampled[df_upsampled['sentiment']=='positive'].iloc[:10000]\n",
        "\n",
        "    ## Considering the remaining data points for test\n",
        "    negative_data_points_test = df_upsampled[df_upsampled['sentiment']=='negative'].iloc[10000:]\n",
        "    positive_data_points_test = df_upsampled[df_upsampled['sentiment']=='positive'].iloc[10000:]\n",
        "\n",
        "    ## Concatenate the training positive and negative reviews\n",
        "    X_train = pd.concat([positive_data_points_train['review'], negative_data_points_train['review']])\n",
        "    ## Concatenating the training positive and negative outputs\n",
        "    y_train = pd.concat([positive_data_points_train['sentiment'], negative_data_points_train['sentiment']])\n",
        "\n",
        "    ## Concatenating the test positive and negative reviews\n",
        "    X_test = pd.concat([positive_data_points_test['review'], negative_data_points_test['review']])\n",
        "    ## Concatenating the test positive and negative outputs\n",
        "    y_test = pd.concat([positive_data_points_test['sentiment'], negative_data_points_test['sentiment']])\n",
        "    \n",
        "    def find_occurrence(frequency, word, label):\n",
        "        n =0 \n",
        "        for i,j in frequency:\n",
        "            if i[0]==word and i[1]==label:\n",
        "                n+=j\n",
        "        return n\n",
        "        \n",
        "    output_map = {'positive': 0, 'negative': 1}\n",
        "    y_train = y_train.map(output_map)\n",
        "    y_test = y_test.map(output_map)\n",
        "    \n",
        "    def review_counter(output_occurrence, reviews, positive_or_negative):\n",
        "        d1 = dict()\n",
        "        for label, review in zip(positive_or_negative, reviews):\n",
        "            split_review = clean_review(review).split()\n",
        "            for word in split_review:\n",
        "                key = (word,label)\n",
        "                # this checks whether the current pair of key already exists in the dictionary or not if not it adds it to the dictionary\n",
        "                d1[key] = d1.get(key,0)+1\n",
        "        output_occurrence = d1\n",
        "        return output_occurrence\n",
        "    \n",
        "    freqs = review_counter({}, X_train, y_train)\n",
        "    \n",
        "    def train_naive_bayes(freqs, train_x, train_y):\n",
        "        loglikelihood = {}\n",
        "        logprior = 0\n",
        "        # calculate V, the number of unique words in the vocabulary\n",
        "        vocab = set([i[0] for i in freqs.keys()])\n",
        "        V = len(vocab)\n",
        "        # calculate num_pos and num_neg - the total number of positive and negative words for all documents\n",
        "        num_pos = num_neg = 0\n",
        "        for i in freqs.keys():\n",
        "            count = freqs[i]\n",
        "            # if the label is positive (greater than zero)\n",
        "            if i[1]==0:\n",
        "                # Increment the number of positive words by the count for this (word, label) pair\n",
        "                num_pos += count\n",
        "            # else, the label is negative\n",
        "            else:\n",
        "                # increment the number of negative words by the count for this (word,label) pair\n",
        "                num_neg += count\n",
        "        # Calculate num_doc, the number of documents\n",
        "        num_doc = len(train_y)\n",
        "        # Calculate D_pos, the number of positive documents \n",
        "        pos_num_docs = sum(train_y)\n",
        "        # Calculate D_neg, the number of negative documents \n",
        "        neg_num_docs = num_doc - pos_num_docs\n",
        "        # Calculate logprior\n",
        "        logprior = np.log(pos_num_docs/neg_num_docs)\n",
        "        # For each word in the vocabulary...\n",
        "        for word in vocab:\n",
        "            # get the positive and negative frequency of the word\n",
        "            freq_pos = freqs.get((word,0),0)\n",
        "            freq_neg = freqs.get((word,1),0)\n",
        "\n",
        "            # calculate the probability that each word is positive, and negative\n",
        "            p_w_pos = (freq_pos+1)/(num_pos+V)\n",
        "            p_w_neg = (freq_neg+1)/(num_neg+V)\n",
        "\n",
        "            # calculate the log likelihood of the word\n",
        "            loglikelihood[word] = np.log(p_w_pos/p_w_neg)\n",
        "        return logprior, loglikelihood\n",
        "    logprior, loglikelihood = train_naive_bayes(freqs, X_train, y_train)\n",
        "    with open('Nikhilfinal_Hw1.pkl', 'wb') as f:\n",
        "        pickle.dump((freqs, logprior, loglikelihood), f)\n",
        "def wordTokenizer(val):\n",
        "    return word_tokenize(val)\n",
        "\n",
        "def clean_review(review):\n",
        "    url_pattern = r'https?://\\S+|www.\\.\\S+'\n",
        "    k = re.sub(url_pattern, '', review)\n",
        "    # punctuation removal\n",
        "    k = re.sub(r\"[^\\w\\s\\t]\", \"\", k) \n",
        "    #lowering the alphabets \n",
        "    k = k.lower()   \n",
        "    # tokenizing the words\n",
        "    k = word_tokenize(k)\n",
        "    # initializing stop words and applying them\n",
        "    sw = set(stopwords.words('english'))\n",
        "    w = [i for i in k if i not in sw]\n",
        "    # stemming using porter stemmer\n",
        "    porter_stemmer = PorterStemmer()\n",
        "    w = [porter_stemmer.stem(i) for i in w]\n",
        "    # lemmatization \n",
        "    # lemma = WordNetLemmatizer()\n",
        "    # w= [lemma.lemmatize(i) for i in w]\n",
        "    review_cleaned = ' '.join(w)\n",
        "    return review_cleaned\n",
        "        \n",
        "def naive_bayes_predict(review, logprior, loglikelihood):\n",
        "    # process the review to get a list of words\n",
        "    word_l = clean_review(review).split()\n",
        "\n",
        "    # initialize probability to zero\n",
        "    total_prob = 0\n",
        "\n",
        "    # add the logprior\n",
        "    total_prob += logprior\n",
        "\n",
        "    for word in word_l:\n",
        "\n",
        "        # check if the word exists in the loglikelihood dictionary\n",
        "        if word in loglikelihood:\n",
        "            # add the log likelihood of that word to the probability\n",
        "            total_prob = total_prob + loglikelihood[word]\n",
        "\n",
        "    if total_prob < 0:\n",
        "        return 1\n",
        "    else:\n",
        "        return 0\n",
        "\n",
        "def load_file():\n",
        "    try:\n",
        "        with open('Nikhilfinal_Hw1.pkl', 'rb') as f:\n",
        "            freqs, logprior, loglikelihood = pickle.load(f)\n",
        "            return freqs, logprior, loglikelihood\n",
        "    except FileNotFoundError:\n",
        "        print('Please wait while the model is being generated!')\n",
        "        model_generator()\n",
        "        return None\n",
        "        \n",
        "if __name__ == \"__main__\":\n",
        "    result = load_file()\n",
        "    \n",
        "    if result is not None:\n",
        "        reqs, logprior, loglikelihood = result\n",
        "    else:\n",
        "        load_fail = True\n",
        "        reqs, logprior, loglikelihood = load_file()\n",
        "        \n",
        "    while True:\n",
        "        # Taking user input\n",
        "        user_input = input(\"Enter a review for sentiment analysis (or 'XX' to quit): \")\n",
        "\n",
        "        # Checking if the user wants to quit\n",
        "        if user_input.strip().upper() == 'XX':\n",
        "            break\n",
        "\n",
        "        # Performing sentiment classification\n",
        "        pred = naive_bayes_predict(user_input, logprior, loglikelihood)\n",
        "\n",
        "        # Printing results\n",
        "        # Display sentiment result\n",
        "        if pred == 0:\n",
        "            print(\"Sentiment Analysis Result: Positive review!\")\n",
        "            print(\" \")\n",
        "        else:\n",
        "            print(\"Sentiment Analysis Result: Negative review!\")\n",
        "            print(\" \")\n",
        "\n",
        "        #print(\"Please enter another sentence or 'XX' to quit.\")\n",
        "'''\n",
        "file_name = \"text_classifier_002626733.py\"\n",
        "\n",
        "# Write the script content to the file\n",
        "with open(file_name, \"w\") as file:\n",
        "    file.write(script_content)\n",
        "\n",
        "print(f\"File '{file_name}' has been created.\")"
      ]
    },
    {
      "cell_type": "markdown",
      "id": "a9cacc4b",
      "metadata": {},
      "source": [
        "- There is a problem with maximum likelihood training is lets say we are trying to estimate the likelihood of a word \"good\" given its class is positive\n",
        "- But there is no data what so ever that contains the word \"good\" under positive reviews but it existis in negative reviews\n",
        "- In this case the probability for such features will be 0 since naive bayes multiplies all the feature likelihood together it will cause the probability of the entire class to be 0\n",
        "- The solution for this is to use Laplace smoothing also know as additive smoothing is essential in Naive Bayes text classification to address the problem of zero probabilities, sparsity, and overfitting.\n",
        "- We add a small constant (like 1) to both the numerator and denominator when computing probabilities using Laplace smoothing. This ensures that even if a word isn't in the training set, it will still have a non-zero probability. In the \"positive\" and \"negative\" classes, respectively"
      ]
    },
    {
      "cell_type": "markdown",
      "id": "b6b60949",
      "metadata": {},
      "source": [
        "- In general Naive Bayes calculations for language modelling are done in log space to avoid various problems like underflow and also to handle zero probabilities, increase recision and model interpretability\n",
        "- By considering features in log space Naive bayes computes the predicted class as a linear function of input features (NB and Logistic)\n",
        "- Log probabilities prevent numerical underflow issues that can occur when multiplying many small probabilities together in datasets.\n",
        "- Logs help avoid floating-point precision errors associated with very small or large numbers, ensuring more accurate calculations.\n",
        "- Log probabilities handle zero probabilities more effectively, even when smoothing techniques like Laplace Smoothing are applied."
      ]
    }
  ],
  "metadata": {
    "colab": {
      "collapsed_sections": [],
      "name": "CS6120_NLP_Assignment_1_Notebook.ipynb",
      "provenance": [],
      "toc_visible": true
    },
    "kernelspec": {
      "display_name": "Python 3 (ipykernel)",
      "language": "python",
      "name": "python3"
    },
    "language_info": {
      "codemirror_mode": {
        "name": "ipython",
        "version": 3
      },
      "file_extension": ".py",
      "mimetype": "text/x-python",
      "name": "python",
      "nbconvert_exporter": "python",
      "pygments_lexer": "ipython3",
      "version": "3.11.0"
    }
  },
  "nbformat": 4,
  "nbformat_minor": 5
}
